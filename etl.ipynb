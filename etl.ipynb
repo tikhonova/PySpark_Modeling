{
 "cells": [
  {
   "cell_type": "markdown",
   "metadata": {
    "editable": true
   },
   "source": [
    "# ETL Pipeline for Immigration, Airport, and Cities Data\n",
    "### Data Engineering Capstone Project\n",
    "\n",
    "#### Project Summary <a id ='summary'></a> \n",
    "\n",
    "The goal of this project is to create an ETL pipeline using publicly available immigration data and city/airport data to create a database that is optimized for queries on immigration events. \n",
    "\n",
    "The project follows the below steps:\n",
    "* [Step 1: Scope the Project and Gather Data](#step1)\n",
    "* [Step 2: Explore and Assess the Data](#step2)\n",
    "* [Step 3: Define the Data Model](#step3)\n",
    "* [Step 4: Run ETL to Model the Data](#step4)\n",
    "* [Step 5: Complete Project Write Up](#step5)\n",
    "\n",
    "The following tables will be created:\n",
    "* FACT Table with Immigration events\n",
    "* DIM Table with Airport attributes\n",
    "* DIM Table with City attributes\n",
    "\n",
    "In order to facilitate queries, answering questions such as:\n",
    "* Is there a correlation between the volume of travel and the number of entry ports?\n",
    "* Does the volume of travel depend of the demographics of a given city?\n",
    "* Which visa type holders comprise the majority of travelers in a given airport / city?\n"
   ]
  },
  {
   "cell_type": "code",
   "execution_count": 1,
   "metadata": {
    "editable": true
   },
   "outputs": [],
   "source": [
    "#Importing libraries\n",
    "import pandas as pd\n",
    "import numpy as np\n",
    "pd.set_option('display.max_rows', 500)\n",
    "pd.set_option('display.max_columns', 500)\n",
    "pd.set_option('display.width', 1000)\n",
    "from pyspark.sql import SparkSession\n",
    "from pyspark.sql.functions import date_add, col"
   ]
  },
  {
   "cell_type": "markdown",
   "metadata": {
    "editable": true
   },
   "source": [
    "### Step 1: Scope the Project and Gather Data <a id ='step1'></a> \n",
    "\n",
    "#### Scope \n",
    "The goal of this project is to build an ETL, pulling data from 3 different sources and creating fact and dimension tables optimized for business analysis. PySpark and Pandas are the main tools used to process these data.\n",
    "\n",
    "#### Data Description\n",
    "* **I94 Immigration Data**: This data comes from the US National Tourism and Trade Office. A data dictionary (I94_SAS_Labels_Descriptions.SAS) is included in the current folder. [This](https://travel.trade.gov/research/reports/i94/historical/2016.html) is where the data comes from. There's a sample file (immigration_data_sample.csv) included here as well.\n",
    "* **U.S. City Demographic Data**: This data comes from OpenSoft. You can read more about it [here](https://public.opendatasoft.com/explore/dataset/us-cities-demographics/export/).\n",
    "* **Airport Code Table**: This is a simple table of airport codes and corresponding cities. It comes from [here](https://datahub.io/core/airport-codes#data)."
   ]
  },
  {
   "cell_type": "code",
   "execution_count": 2,
   "metadata": {
    "editable": true
   },
   "outputs": [],
   "source": [
    "#launching a spark session\n",
    "spark = SparkSession.builder.\\\n",
    "config(\"spark.jars.repositories\", \"https://repos.spark-packages.org/\").\\\n",
    "config(\"spark.jars.packages\", \"saurfang:spark-sas7bdat:2.0.0-s_2.11\").\\\n",
    "enableHiveSupport().getOrCreate()"
   ]
  },
  {
   "cell_type": "markdown",
   "metadata": {
    "editable": true
   },
   "source": [
    "Writing immigration data:\n",
    "* spark = spark.read.format('com.github.saurfang.sas.spark').load('../../data/18-83510-I94-Data-2016/i94_apr16_sub.sas7bdat')\n",
    "* spark.write.parquet(\"sas_data\")"
   ]
  },
  {
   "cell_type": "code",
   "execution_count": 3,
   "metadata": {
    "editable": true
   },
   "outputs": [],
   "source": [
    "#Reading in the data\n",
    "c = pd.read_csv(\"us-cities-demographics.csv\", sep = ';')\n",
    "a = pd.read_csv(\"airport-codes.csv\", sep = ',')\n",
    "immigration = spark.read.parquet(\"sas_data\") \n",
    "\n",
    "#Getting the immigration sample\n",
    "i = pd.read_csv(\"immigration_data_sample.csv\", sep = ',')\n"
   ]
  },
  {
   "cell_type": "markdown",
   "metadata": {
    "editable": true
   },
   "source": [
    "---"
   ]
  },
  {
   "cell_type": "code",
   "execution_count": 4,
   "metadata": {
    "editable": true
   },
   "outputs": [],
   "source": [
    "#Reading in the data dictionary for Immigration as helpfully suggested by a Udacity mentor\n",
    "with open('./I94_SAS_Labels_Descriptions.SAS') as f:\n",
    "    f_content = f.read()\n",
    "    f_content = f_content.replace('\\t', '')\n",
    "\n",
    "def code_mapper(file, idx):\n",
    "    f_content2 = f_content[f_content.index(idx):]\n",
    "    f_content2 = f_content2[:f_content2.index(';')].split('\\n')\n",
    "    f_content2 = [i.replace(\"'\", \"\") for i in f_content2]\n",
    "    dic = [i.split('=') for i in f_content2[1:]]\n",
    "    dic = dict([i[0].strip(), i[1].strip()] for i in dic if len(i) == 2)\n",
    "    return dic\n",
    "\n",
    "i94cit_res = code_mapper(f_content, \"i94cntyl\")\n",
    "i94port = code_mapper(f_content, \"i94prtl\")\n",
    "i94mode = code_mapper(f_content, \"i94model\")\n",
    "i94addr = code_mapper(f_content, \"i94addrl\")\n",
    "i94visa = {'1':'Business',\n",
    "'2': 'Pleasure',\n",
    "'3' : 'Student'}"
   ]
  },
  {
   "cell_type": "code",
   "execution_count": 5,
   "metadata": {
    "editable": true,
    "scrolled": true
   },
   "outputs": [],
   "source": [
    "#Turning a list of ports into a dataframe with distinct columns\n",
    "def split_cols(dict):\n",
    "    '''Takes in a dictionary, returning a dataframe with split columns'''\n",
    "    i94port_df = pd.DataFrame.from_dict(dict, orient='index')\n",
    "    i94port_df.reset_index(level=0, inplace=True)\n",
    "    i94port_df.columns = ['Code','City_State']\n",
    "    i94port_df[['City', 'State','Else']] = i94port_df['City_State'].astype(\"str\").str.split(', ', expand=True)\n",
    "    i94port_df.drop(['City_State', 'Else'], axis=1, inplace=True)\n",
    "    return i94port_df"
   ]
  },
  {
   "cell_type": "code",
   "execution_count": 6,
   "metadata": {
    "editable": true
   },
   "outputs": [
    {
     "data": {
      "text/html": [
       "<div>\n",
       "<style scoped>\n",
       "    .dataframe tbody tr th:only-of-type {\n",
       "        vertical-align: middle;\n",
       "    }\n",
       "\n",
       "    .dataframe tbody tr th {\n",
       "        vertical-align: top;\n",
       "    }\n",
       "\n",
       "    .dataframe thead th {\n",
       "        text-align: right;\n",
       "    }\n",
       "</style>\n",
       "<table border=\"1\" class=\"dataframe\">\n",
       "  <thead>\n",
       "    <tr style=\"text-align: right;\">\n",
       "      <th></th>\n",
       "      <th>Code</th>\n",
       "      <th>City</th>\n",
       "      <th>State</th>\n",
       "    </tr>\n",
       "  </thead>\n",
       "  <tbody>\n",
       "    <tr>\n",
       "      <th>0</th>\n",
       "      <td>ALC</td>\n",
       "      <td>ALCAN</td>\n",
       "      <td>AK</td>\n",
       "    </tr>\n",
       "    <tr>\n",
       "      <th>1</th>\n",
       "      <td>ANC</td>\n",
       "      <td>ANCHORAGE</td>\n",
       "      <td>AK</td>\n",
       "    </tr>\n",
       "    <tr>\n",
       "      <th>2</th>\n",
       "      <td>BAR</td>\n",
       "      <td>BAKER AAF - BAKER ISLAND</td>\n",
       "      <td>AK</td>\n",
       "    </tr>\n",
       "    <tr>\n",
       "      <th>3</th>\n",
       "      <td>DAC</td>\n",
       "      <td>DALTONS CACHE</td>\n",
       "      <td>AK</td>\n",
       "    </tr>\n",
       "    <tr>\n",
       "      <th>4</th>\n",
       "      <td>PIZ</td>\n",
       "      <td>DEW STATION PT LAY DEW</td>\n",
       "      <td>AK</td>\n",
       "    </tr>\n",
       "  </tbody>\n",
       "</table>\n",
       "</div>"
      ],
      "text/plain": [
       "  Code                      City State\n",
       "0  ALC                     ALCAN    AK\n",
       "1  ANC                 ANCHORAGE    AK\n",
       "2  BAR  BAKER AAF - BAKER ISLAND    AK\n",
       "3  DAC             DALTONS CACHE    AK\n",
       "4  PIZ    DEW STATION PT LAY DEW    AK"
      ]
     },
     "execution_count": 6,
     "metadata": {},
     "output_type": "execute_result"
    }
   ],
   "source": [
    "i94port_df = split_cols(i94port)\n",
    "i94port_df. head(5)"
   ]
  },
  {
   "cell_type": "code",
   "execution_count": 7,
   "metadata": {
    "editable": true,
    "scrolled": true
   },
   "outputs": [
    {
     "data": {
      "text/plain": [
       "Code     0.090909\n",
       "City     0.090909\n",
       "State    0.000000\n",
       "dtype: float64"
      ]
     },
     "execution_count": 7,
     "metadata": {},
     "output_type": "execute_result"
    }
   ],
   "source": [
    "#Counting % of missing ports out of total. Turns out to be 9%\n",
    "i94port_df.query('City.str.contains(\"No PORT\")', \n",
    "                 engine='python').count() / i94port_df.shape[0]"
   ]
  },
  {
   "cell_type": "code",
   "execution_count": 8,
   "metadata": {
    "editable": true,
    "scrolled": true
   },
   "outputs": [],
   "source": [
    "#Creating a list of missing ports\n",
    "missing_ports_list = list(i94port_df.query('City.str.contains(\"No PORT\")', engine='python').Code)"
   ]
  },
  {
   "cell_type": "markdown",
   "metadata": {
    "editable": true
   },
   "source": [
    "---"
   ]
  },
  {
   "cell_type": "markdown",
   "metadata": {
    "editable": true
   },
   "source": [
    "### Step 2: Explore and Assess the Data <a id ='step2'></a> \n",
    "\n",
    "What I will be looking out for:\n",
    "\n",
    "* **Completeness** (do we have all the records that we need? any missing / NaaN?)\n",
    "* **Validity** (records that don’t conform to a defined schema, e.g. negative height not possible but present or duplicate key identifier)\n",
    "* **Accuracy** (adheres to define schema, but is incorrect; e.g. overestimated values or out of date information)\n",
    "* **Consistency** (data valid and accurate, but fields are represented in an inconsistent manner, e.g. state as NY and New York)\n",
    "* **Tidiness** (structure of tidy data: variable = column, observation = row, observational unit = table)"
   ]
  },
  {
   "cell_type": "code",
   "execution_count": 9,
   "metadata": {
    "editable": true,
    "scrolled": true
   },
   "outputs": [
    {
     "data": {
      "text/html": [
       "<div>\n",
       "<style scoped>\n",
       "    .dataframe tbody tr th:only-of-type {\n",
       "        vertical-align: middle;\n",
       "    }\n",
       "\n",
       "    .dataframe tbody tr th {\n",
       "        vertical-align: top;\n",
       "    }\n",
       "\n",
       "    .dataframe thead th {\n",
       "        text-align: right;\n",
       "    }\n",
       "</style>\n",
       "<table border=\"1\" class=\"dataframe\">\n",
       "  <thead>\n",
       "    <tr style=\"text-align: right;\">\n",
       "      <th></th>\n",
       "      <th>City</th>\n",
       "      <th>State</th>\n",
       "      <th>Median Age</th>\n",
       "      <th>Male Population</th>\n",
       "      <th>Female Population</th>\n",
       "      <th>Total Population</th>\n",
       "      <th>Number of Veterans</th>\n",
       "      <th>Foreign-born</th>\n",
       "      <th>Average Household Size</th>\n",
       "      <th>State Code</th>\n",
       "      <th>Race</th>\n",
       "      <th>Count</th>\n",
       "    </tr>\n",
       "  </thead>\n",
       "  <tbody>\n",
       "    <tr>\n",
       "      <th>0</th>\n",
       "      <td>Wichita</td>\n",
       "      <td>Kansas</td>\n",
       "      <td>34.6</td>\n",
       "      <td>192354.0</td>\n",
       "      <td>197601.0</td>\n",
       "      <td>389955</td>\n",
       "      <td>23978.0</td>\n",
       "      <td>40270.0</td>\n",
       "      <td>2.56</td>\n",
       "      <td>KS</td>\n",
       "      <td>American Indian and Alaska Native</td>\n",
       "      <td>8791</td>\n",
       "    </tr>\n",
       "    <tr>\n",
       "      <th>1</th>\n",
       "      <td>Allen</td>\n",
       "      <td>Pennsylvania</td>\n",
       "      <td>33.5</td>\n",
       "      <td>60626.0</td>\n",
       "      <td>59581.0</td>\n",
       "      <td>120207</td>\n",
       "      <td>5691.0</td>\n",
       "      <td>19652.0</td>\n",
       "      <td>2.67</td>\n",
       "      <td>PA</td>\n",
       "      <td>Black or African-American</td>\n",
       "      <td>22304</td>\n",
       "    </tr>\n",
       "    <tr>\n",
       "      <th>2</th>\n",
       "      <td>Danbury</td>\n",
       "      <td>Connecticut</td>\n",
       "      <td>37.3</td>\n",
       "      <td>43435.0</td>\n",
       "      <td>41227.0</td>\n",
       "      <td>84662</td>\n",
       "      <td>3752.0</td>\n",
       "      <td>25675.0</td>\n",
       "      <td>2.74</td>\n",
       "      <td>CT</td>\n",
       "      <td>Black or African-American</td>\n",
       "      <td>8454</td>\n",
       "    </tr>\n",
       "    <tr>\n",
       "      <th>3</th>\n",
       "      <td>Nashville</td>\n",
       "      <td>Tennessee</td>\n",
       "      <td>34.1</td>\n",
       "      <td>314231.0</td>\n",
       "      <td>340365.0</td>\n",
       "      <td>654596</td>\n",
       "      <td>27942.0</td>\n",
       "      <td>88193.0</td>\n",
       "      <td>2.39</td>\n",
       "      <td>TN</td>\n",
       "      <td>Hispanic or Latino</td>\n",
       "      <td>67526</td>\n",
       "    </tr>\n",
       "    <tr>\n",
       "      <th>4</th>\n",
       "      <td>Stamford</td>\n",
       "      <td>Connecticut</td>\n",
       "      <td>35.4</td>\n",
       "      <td>64941.0</td>\n",
       "      <td>63936.0</td>\n",
       "      <td>128877</td>\n",
       "      <td>2269.0</td>\n",
       "      <td>44003.0</td>\n",
       "      <td>2.70</td>\n",
       "      <td>CT</td>\n",
       "      <td>Asian</td>\n",
       "      <td>11013</td>\n",
       "    </tr>\n",
       "  </tbody>\n",
       "</table>\n",
       "</div>"
      ],
      "text/plain": [
       "        City         State  Median Age  Male Population  Female Population  Total Population  Number of Veterans  Foreign-born  Average Household Size State Code                               Race  Count\n",
       "0    Wichita        Kansas        34.6         192354.0           197601.0            389955             23978.0       40270.0                    2.56         KS  American Indian and Alaska Native   8791\n",
       "1      Allen  Pennsylvania        33.5          60626.0            59581.0            120207              5691.0       19652.0                    2.67         PA          Black or African-American  22304\n",
       "2    Danbury   Connecticut        37.3          43435.0            41227.0             84662              3752.0       25675.0                    2.74         CT          Black or African-American   8454\n",
       "3  Nashville     Tennessee        34.1         314231.0           340365.0            654596             27942.0       88193.0                    2.39         TN                 Hispanic or Latino  67526\n",
       "4   Stamford   Connecticut        35.4          64941.0            63936.0            128877              2269.0       44003.0                    2.70         CT                              Asian  11013"
      ]
     },
     "execution_count": 9,
     "metadata": {},
     "output_type": "execute_result"
    }
   ],
   "source": [
    "c.head(5) #cities"
   ]
  },
  {
   "cell_type": "code",
   "execution_count": 10,
   "metadata": {
    "editable": true,
    "scrolled": true
   },
   "outputs": [
    {
     "data": {
      "text/html": [
       "<div>\n",
       "<style scoped>\n",
       "    .dataframe tbody tr th:only-of-type {\n",
       "        vertical-align: middle;\n",
       "    }\n",
       "\n",
       "    .dataframe tbody tr th {\n",
       "        vertical-align: top;\n",
       "    }\n",
       "\n",
       "    .dataframe thead th {\n",
       "        text-align: right;\n",
       "    }\n",
       "</style>\n",
       "<table border=\"1\" class=\"dataframe\">\n",
       "  <thead>\n",
       "    <tr style=\"text-align: right;\">\n",
       "      <th></th>\n",
       "      <th>ident</th>\n",
       "      <th>type</th>\n",
       "      <th>name</th>\n",
       "      <th>elevation_ft</th>\n",
       "      <th>continent</th>\n",
       "      <th>iso_country</th>\n",
       "      <th>iso_region</th>\n",
       "      <th>municipality</th>\n",
       "      <th>gps_code</th>\n",
       "      <th>iata_code</th>\n",
       "      <th>local_code</th>\n",
       "      <th>coordinates</th>\n",
       "    </tr>\n",
       "  </thead>\n",
       "  <tbody>\n",
       "    <tr>\n",
       "      <th>0</th>\n",
       "      <td>00A</td>\n",
       "      <td>heliport</td>\n",
       "      <td>Total Rf Heliport</td>\n",
       "      <td>11.0</td>\n",
       "      <td>NaN</td>\n",
       "      <td>US</td>\n",
       "      <td>US-PA</td>\n",
       "      <td>Bensalem</td>\n",
       "      <td>00A</td>\n",
       "      <td>NaN</td>\n",
       "      <td>00A</td>\n",
       "      <td>-74.93360137939453, 40.07080078125</td>\n",
       "    </tr>\n",
       "    <tr>\n",
       "      <th>1</th>\n",
       "      <td>00AA</td>\n",
       "      <td>small_airport</td>\n",
       "      <td>Aero B Ranch Airport</td>\n",
       "      <td>3435.0</td>\n",
       "      <td>NaN</td>\n",
       "      <td>US</td>\n",
       "      <td>US-KS</td>\n",
       "      <td>Leoti</td>\n",
       "      <td>00AA</td>\n",
       "      <td>NaN</td>\n",
       "      <td>00AA</td>\n",
       "      <td>-101.473911, 38.704022</td>\n",
       "    </tr>\n",
       "    <tr>\n",
       "      <th>2</th>\n",
       "      <td>00AK</td>\n",
       "      <td>small_airport</td>\n",
       "      <td>Lowell Field</td>\n",
       "      <td>450.0</td>\n",
       "      <td>NaN</td>\n",
       "      <td>US</td>\n",
       "      <td>US-AK</td>\n",
       "      <td>Anchor Point</td>\n",
       "      <td>00AK</td>\n",
       "      <td>NaN</td>\n",
       "      <td>00AK</td>\n",
       "      <td>-151.695999146, 59.94919968</td>\n",
       "    </tr>\n",
       "    <tr>\n",
       "      <th>3</th>\n",
       "      <td>00AL</td>\n",
       "      <td>small_airport</td>\n",
       "      <td>Epps Airpark</td>\n",
       "      <td>820.0</td>\n",
       "      <td>NaN</td>\n",
       "      <td>US</td>\n",
       "      <td>US-AL</td>\n",
       "      <td>Harvest</td>\n",
       "      <td>00AL</td>\n",
       "      <td>NaN</td>\n",
       "      <td>00AL</td>\n",
       "      <td>-86.77030181884766, 34.86479949951172</td>\n",
       "    </tr>\n",
       "    <tr>\n",
       "      <th>4</th>\n",
       "      <td>00AR</td>\n",
       "      <td>closed</td>\n",
       "      <td>Newport Hospital &amp; Clinic Heliport</td>\n",
       "      <td>237.0</td>\n",
       "      <td>NaN</td>\n",
       "      <td>US</td>\n",
       "      <td>US-AR</td>\n",
       "      <td>Newport</td>\n",
       "      <td>NaN</td>\n",
       "      <td>NaN</td>\n",
       "      <td>NaN</td>\n",
       "      <td>-91.254898, 35.6087</td>\n",
       "    </tr>\n",
       "  </tbody>\n",
       "</table>\n",
       "</div>"
      ],
      "text/plain": [
       "  ident           type                                name  elevation_ft continent iso_country iso_region  municipality gps_code iata_code local_code                            coordinates\n",
       "0   00A       heliport                   Total Rf Heliport          11.0       NaN          US      US-PA      Bensalem      00A       NaN        00A     -74.93360137939453, 40.07080078125\n",
       "1  00AA  small_airport                Aero B Ranch Airport        3435.0       NaN          US      US-KS         Leoti     00AA       NaN       00AA                 -101.473911, 38.704022\n",
       "2  00AK  small_airport                        Lowell Field         450.0       NaN          US      US-AK  Anchor Point     00AK       NaN       00AK            -151.695999146, 59.94919968\n",
       "3  00AL  small_airport                        Epps Airpark         820.0       NaN          US      US-AL       Harvest     00AL       NaN       00AL  -86.77030181884766, 34.86479949951172\n",
       "4  00AR         closed  Newport Hospital & Clinic Heliport         237.0       NaN          US      US-AR       Newport      NaN       NaN        NaN                    -91.254898, 35.6087"
      ]
     },
     "execution_count": 10,
     "metadata": {},
     "output_type": "execute_result"
    }
   ],
   "source": [
    "a.head(5) #airports"
   ]
  },
  {
   "cell_type": "code",
   "execution_count": 11,
   "metadata": {
    "editable": true
   },
   "outputs": [
    {
     "data": {
      "text/html": [
       "<div>\n",
       "<style scoped>\n",
       "    .dataframe tbody tr th:only-of-type {\n",
       "        vertical-align: middle;\n",
       "    }\n",
       "\n",
       "    .dataframe tbody tr th {\n",
       "        vertical-align: top;\n",
       "    }\n",
       "\n",
       "    .dataframe thead th {\n",
       "        text-align: right;\n",
       "    }\n",
       "</style>\n",
       "<table border=\"1\" class=\"dataframe\">\n",
       "  <thead>\n",
       "    <tr style=\"text-align: right;\">\n",
       "      <th></th>\n",
       "      <th>Unnamed: 0</th>\n",
       "      <th>cicid</th>\n",
       "      <th>i94yr</th>\n",
       "      <th>i94mon</th>\n",
       "      <th>i94cit</th>\n",
       "      <th>i94res</th>\n",
       "      <th>i94port</th>\n",
       "      <th>arrdate</th>\n",
       "      <th>i94mode</th>\n",
       "      <th>i94addr</th>\n",
       "      <th>depdate</th>\n",
       "      <th>i94bir</th>\n",
       "      <th>i94visa</th>\n",
       "      <th>count</th>\n",
       "      <th>dtadfile</th>\n",
       "      <th>visapost</th>\n",
       "      <th>occup</th>\n",
       "      <th>entdepa</th>\n",
       "      <th>entdepd</th>\n",
       "      <th>entdepu</th>\n",
       "      <th>matflag</th>\n",
       "      <th>biryear</th>\n",
       "      <th>dtaddto</th>\n",
       "      <th>gender</th>\n",
       "      <th>insnum</th>\n",
       "      <th>airline</th>\n",
       "      <th>admnum</th>\n",
       "      <th>fltno</th>\n",
       "      <th>visatype</th>\n",
       "    </tr>\n",
       "  </thead>\n",
       "  <tbody>\n",
       "    <tr>\n",
       "      <th>0</th>\n",
       "      <td>2027561</td>\n",
       "      <td>4084316.0</td>\n",
       "      <td>2016.0</td>\n",
       "      <td>4.0</td>\n",
       "      <td>209.0</td>\n",
       "      <td>209.0</td>\n",
       "      <td>HHW</td>\n",
       "      <td>20566.0</td>\n",
       "      <td>1.0</td>\n",
       "      <td>HI</td>\n",
       "      <td>20573.0</td>\n",
       "      <td>61.0</td>\n",
       "      <td>2.0</td>\n",
       "      <td>1.0</td>\n",
       "      <td>20160422</td>\n",
       "      <td>NaN</td>\n",
       "      <td>NaN</td>\n",
       "      <td>G</td>\n",
       "      <td>O</td>\n",
       "      <td>NaN</td>\n",
       "      <td>M</td>\n",
       "      <td>1955.0</td>\n",
       "      <td>07202016</td>\n",
       "      <td>F</td>\n",
       "      <td>NaN</td>\n",
       "      <td>JL</td>\n",
       "      <td>5.658267e+10</td>\n",
       "      <td>00782</td>\n",
       "      <td>WT</td>\n",
       "    </tr>\n",
       "    <tr>\n",
       "      <th>1</th>\n",
       "      <td>2171295</td>\n",
       "      <td>4422636.0</td>\n",
       "      <td>2016.0</td>\n",
       "      <td>4.0</td>\n",
       "      <td>582.0</td>\n",
       "      <td>582.0</td>\n",
       "      <td>MCA</td>\n",
       "      <td>20567.0</td>\n",
       "      <td>1.0</td>\n",
       "      <td>TX</td>\n",
       "      <td>20568.0</td>\n",
       "      <td>26.0</td>\n",
       "      <td>2.0</td>\n",
       "      <td>1.0</td>\n",
       "      <td>20160423</td>\n",
       "      <td>MTR</td>\n",
       "      <td>NaN</td>\n",
       "      <td>G</td>\n",
       "      <td>R</td>\n",
       "      <td>NaN</td>\n",
       "      <td>M</td>\n",
       "      <td>1990.0</td>\n",
       "      <td>10222016</td>\n",
       "      <td>M</td>\n",
       "      <td>NaN</td>\n",
       "      <td>*GA</td>\n",
       "      <td>9.436200e+10</td>\n",
       "      <td>XBLNG</td>\n",
       "      <td>B2</td>\n",
       "    </tr>\n",
       "    <tr>\n",
       "      <th>2</th>\n",
       "      <td>589494</td>\n",
       "      <td>1195600.0</td>\n",
       "      <td>2016.0</td>\n",
       "      <td>4.0</td>\n",
       "      <td>148.0</td>\n",
       "      <td>112.0</td>\n",
       "      <td>OGG</td>\n",
       "      <td>20551.0</td>\n",
       "      <td>1.0</td>\n",
       "      <td>FL</td>\n",
       "      <td>20571.0</td>\n",
       "      <td>76.0</td>\n",
       "      <td>2.0</td>\n",
       "      <td>1.0</td>\n",
       "      <td>20160407</td>\n",
       "      <td>NaN</td>\n",
       "      <td>NaN</td>\n",
       "      <td>G</td>\n",
       "      <td>O</td>\n",
       "      <td>NaN</td>\n",
       "      <td>M</td>\n",
       "      <td>1940.0</td>\n",
       "      <td>07052016</td>\n",
       "      <td>M</td>\n",
       "      <td>NaN</td>\n",
       "      <td>LH</td>\n",
       "      <td>5.578047e+10</td>\n",
       "      <td>00464</td>\n",
       "      <td>WT</td>\n",
       "    </tr>\n",
       "    <tr>\n",
       "      <th>3</th>\n",
       "      <td>2631158</td>\n",
       "      <td>5291768.0</td>\n",
       "      <td>2016.0</td>\n",
       "      <td>4.0</td>\n",
       "      <td>297.0</td>\n",
       "      <td>297.0</td>\n",
       "      <td>LOS</td>\n",
       "      <td>20572.0</td>\n",
       "      <td>1.0</td>\n",
       "      <td>CA</td>\n",
       "      <td>20581.0</td>\n",
       "      <td>25.0</td>\n",
       "      <td>2.0</td>\n",
       "      <td>1.0</td>\n",
       "      <td>20160428</td>\n",
       "      <td>DOH</td>\n",
       "      <td>NaN</td>\n",
       "      <td>G</td>\n",
       "      <td>O</td>\n",
       "      <td>NaN</td>\n",
       "      <td>M</td>\n",
       "      <td>1991.0</td>\n",
       "      <td>10272016</td>\n",
       "      <td>M</td>\n",
       "      <td>NaN</td>\n",
       "      <td>QR</td>\n",
       "      <td>9.478970e+10</td>\n",
       "      <td>00739</td>\n",
       "      <td>B2</td>\n",
       "    </tr>\n",
       "    <tr>\n",
       "      <th>4</th>\n",
       "      <td>3032257</td>\n",
       "      <td>985523.0</td>\n",
       "      <td>2016.0</td>\n",
       "      <td>4.0</td>\n",
       "      <td>111.0</td>\n",
       "      <td>111.0</td>\n",
       "      <td>CHM</td>\n",
       "      <td>20550.0</td>\n",
       "      <td>3.0</td>\n",
       "      <td>NY</td>\n",
       "      <td>20553.0</td>\n",
       "      <td>19.0</td>\n",
       "      <td>2.0</td>\n",
       "      <td>1.0</td>\n",
       "      <td>20160406</td>\n",
       "      <td>NaN</td>\n",
       "      <td>NaN</td>\n",
       "      <td>Z</td>\n",
       "      <td>K</td>\n",
       "      <td>NaN</td>\n",
       "      <td>M</td>\n",
       "      <td>1997.0</td>\n",
       "      <td>07042016</td>\n",
       "      <td>F</td>\n",
       "      <td>NaN</td>\n",
       "      <td>NaN</td>\n",
       "      <td>4.232257e+10</td>\n",
       "      <td>LAND</td>\n",
       "      <td>WT</td>\n",
       "    </tr>\n",
       "  </tbody>\n",
       "</table>\n",
       "</div>"
      ],
      "text/plain": [
       "   Unnamed: 0      cicid   i94yr  i94mon  i94cit  i94res i94port  arrdate  i94mode i94addr  depdate  i94bir  i94visa  count  dtadfile visapost occup entdepa entdepd  entdepu matflag  biryear   dtaddto gender  insnum airline        admnum  fltno visatype\n",
       "0     2027561  4084316.0  2016.0     4.0   209.0   209.0     HHW  20566.0      1.0      HI  20573.0    61.0      2.0    1.0  20160422      NaN   NaN       G       O      NaN       M   1955.0  07202016      F     NaN      JL  5.658267e+10  00782       WT\n",
       "1     2171295  4422636.0  2016.0     4.0   582.0   582.0     MCA  20567.0      1.0      TX  20568.0    26.0      2.0    1.0  20160423      MTR   NaN       G       R      NaN       M   1990.0  10222016      M     NaN     *GA  9.436200e+10  XBLNG       B2\n",
       "2      589494  1195600.0  2016.0     4.0   148.0   112.0     OGG  20551.0      1.0      FL  20571.0    76.0      2.0    1.0  20160407      NaN   NaN       G       O      NaN       M   1940.0  07052016      M     NaN      LH  5.578047e+10  00464       WT\n",
       "3     2631158  5291768.0  2016.0     4.0   297.0   297.0     LOS  20572.0      1.0      CA  20581.0    25.0      2.0    1.0  20160428      DOH   NaN       G       O      NaN       M   1991.0  10272016      M     NaN      QR  9.478970e+10  00739       B2\n",
       "4     3032257   985523.0  2016.0     4.0   111.0   111.0     CHM  20550.0      3.0      NY  20553.0    19.0      2.0    1.0  20160406      NaN   NaN       Z       K      NaN       M   1997.0  07042016      F     NaN     NaN  4.232257e+10   LAND       WT"
      ]
     },
     "execution_count": 11,
     "metadata": {},
     "output_type": "execute_result"
    }
   ],
   "source": [
    "i.head(5) #immigration sample"
   ]
  },
  {
   "cell_type": "code",
   "execution_count": 12,
   "metadata": {
    "editable": true
   },
   "outputs": [
    {
     "data": {
      "text/plain": [
       "0.9988561053109396"
      ]
     },
     "execution_count": 12,
     "metadata": {},
     "output_type": "execute_result"
    }
   ],
   "source": [
    "#Checking how many rows are matching between the two datasets if we join Airports and Immigration on local_code and i94port.\n",
    "#Seems to be a 100% match (almost)\n",
    "len(a[~a['local_code'].isin(i['i94port'])])/a.shape[0]"
   ]
  },
  {
   "cell_type": "code",
   "execution_count": 13,
   "metadata": {
    "editable": true,
    "scrolled": true
   },
   "outputs": [
    {
     "data": {
      "text/plain": [
       "[Row(cicid=5748517.0, i94yr=2016.0, i94mon=4.0, i94cit=245.0, i94res=438.0, i94port='LOS', arrdate=20574.0, i94mode=1.0, i94addr='CA', depdate=20582.0, i94bir=40.0, i94visa=1.0, count=1.0, dtadfile='20160430', visapost='SYD', occup=None, entdepa='G', entdepd='O', entdepu=None, matflag='M', biryear=1976.0, dtaddto='10292016', gender='F', insnum=None, airline='QF', admnum=94953870030.0, fltno='00011', visatype='B1')]"
      ]
     },
     "execution_count": 13,
     "metadata": {},
     "output_type": "execute_result"
    }
   ],
   "source": [
    "immigration.head(1) #top row from spark df"
   ]
  },
  {
   "cell_type": "code",
   "execution_count": 14,
   "metadata": {
    "editable": true
   },
   "outputs": [
    {
     "name": "stdout",
     "output_type": "stream",
     "text": [
      "count of rows and columns for cities: (2891, 12)\n",
      "count of rows and columns for airports: (55075, 12)\n",
      "count of rows and columns for immigration: (3096313, 28)\n"
     ]
    }
   ],
   "source": [
    "#Getting to understand the number of rows and columns\n",
    "print(f'count of rows and columns for cities: {c.shape}')\n",
    "print(f'count of rows and columns for airports: {a.shape}')\n",
    "print(f'count of rows and columns for immigration: {immigration.count(), len(immigration.columns)}')"
   ]
  },
  {
   "cell_type": "code",
   "execution_count": 15,
   "metadata": {
    "editable": true,
    "scrolled": true
   },
   "outputs": [
    {
     "name": "stdout",
     "output_type": "stream",
     "text": [
      "<class 'pandas.core.frame.DataFrame'>\n",
      "RangeIndex: 2891 entries, 0 to 2890\n",
      "Data columns (total 12 columns):\n",
      "City                      2891 non-null object\n",
      "State                     2891 non-null object\n",
      "Median Age                2891 non-null float64\n",
      "Male Population           2888 non-null float64\n",
      "Female Population         2888 non-null float64\n",
      "Total Population          2891 non-null int64\n",
      "Number of Veterans        2878 non-null float64\n",
      "Foreign-born              2878 non-null float64\n",
      "Average Household Size    2875 non-null float64\n",
      "State Code                2891 non-null object\n",
      "Race                      2891 non-null object\n",
      "Count                     2891 non-null int64\n",
      "dtypes: float64(6), int64(2), object(4)\n",
      "memory usage: 271.1+ KB\n"
     ]
    }
   ],
   "source": [
    "#Understanding columns and data types\n",
    "c.info()"
   ]
  },
  {
   "cell_type": "code",
   "execution_count": 16,
   "metadata": {
    "editable": true
   },
   "outputs": [
    {
     "name": "stdout",
     "output_type": "stream",
     "text": [
      "<class 'pandas.core.frame.DataFrame'>\n",
      "RangeIndex: 55075 entries, 0 to 55074\n",
      "Data columns (total 12 columns):\n",
      "ident           55075 non-null object\n",
      "type            55075 non-null object\n",
      "name            55075 non-null object\n",
      "elevation_ft    48069 non-null float64\n",
      "continent       27356 non-null object\n",
      "iso_country     54828 non-null object\n",
      "iso_region      55075 non-null object\n",
      "municipality    49399 non-null object\n",
      "gps_code        41030 non-null object\n",
      "iata_code       9189 non-null object\n",
      "local_code      28686 non-null object\n",
      "coordinates     55075 non-null object\n",
      "dtypes: float64(1), object(11)\n",
      "memory usage: 5.0+ MB\n"
     ]
    }
   ],
   "source": [
    "a.info()"
   ]
  },
  {
   "cell_type": "code",
   "execution_count": 17,
   "metadata": {
    "editable": true,
    "scrolled": true
   },
   "outputs": [
    {
     "name": "stdout",
     "output_type": "stream",
     "text": [
      "<class 'pandas.core.frame.DataFrame'>\n",
      "RangeIndex: 1000 entries, 0 to 999\n",
      "Data columns (total 29 columns):\n",
      "Unnamed: 0    1000 non-null int64\n",
      "cicid         1000 non-null float64\n",
      "i94yr         1000 non-null float64\n",
      "i94mon        1000 non-null float64\n",
      "i94cit        1000 non-null float64\n",
      "i94res        1000 non-null float64\n",
      "i94port       1000 non-null object\n",
      "arrdate       1000 non-null float64\n",
      "i94mode       1000 non-null float64\n",
      "i94addr       941 non-null object\n",
      "depdate       951 non-null float64\n",
      "i94bir        1000 non-null float64\n",
      "i94visa       1000 non-null float64\n",
      "count         1000 non-null float64\n",
      "dtadfile      1000 non-null int64\n",
      "visapost      382 non-null object\n",
      "occup         4 non-null object\n",
      "entdepa       1000 non-null object\n",
      "entdepd       954 non-null object\n",
      "entdepu       0 non-null float64\n",
      "matflag       954 non-null object\n",
      "biryear       1000 non-null float64\n",
      "dtaddto       1000 non-null object\n",
      "gender        859 non-null object\n",
      "insnum        35 non-null float64\n",
      "airline       967 non-null object\n",
      "admnum        1000 non-null float64\n",
      "fltno         992 non-null object\n",
      "visatype      1000 non-null object\n",
      "dtypes: float64(15), int64(2), object(12)\n",
      "memory usage: 226.6+ KB\n"
     ]
    }
   ],
   "source": [
    "i.info()"
   ]
  },
  {
   "cell_type": "code",
   "execution_count": 18,
   "metadata": {
    "editable": true
   },
   "outputs": [
    {
     "data": {
      "text/plain": [
       "{dtype('int64'): Index(['Total Population', 'Count'], dtype='object'),\n",
       " dtype('float64'): Index(['Median Age', 'Male Population', 'Female Population', 'Number of Veterans', 'Foreign-born', 'Average Household Size'], dtype='object'),\n",
       " dtype('O'): Index(['City', 'State', 'State Code', 'Race'], dtype='object')}"
      ]
     },
     "execution_count": 18,
     "metadata": {},
     "output_type": "execute_result"
    }
   ],
   "source": [
    "c.columns.to_series().groupby(c.dtypes).groups"
   ]
  },
  {
   "cell_type": "code",
   "execution_count": 19,
   "metadata": {
    "editable": true,
    "scrolled": true
   },
   "outputs": [
    {
     "data": {
      "text/html": [
       "<div>\n",
       "<style scoped>\n",
       "    .dataframe tbody tr th:only-of-type {\n",
       "        vertical-align: middle;\n",
       "    }\n",
       "\n",
       "    .dataframe tbody tr th {\n",
       "        vertical-align: top;\n",
       "    }\n",
       "\n",
       "    .dataframe thead th {\n",
       "        text-align: right;\n",
       "    }\n",
       "</style>\n",
       "<table border=\"1\" class=\"dataframe\">\n",
       "  <thead>\n",
       "    <tr style=\"text-align: right;\">\n",
       "      <th></th>\n",
       "      <th>Median Age</th>\n",
       "      <th>Male Population</th>\n",
       "      <th>Female Population</th>\n",
       "      <th>Total Population</th>\n",
       "      <th>Number of Veterans</th>\n",
       "      <th>Foreign-born</th>\n",
       "      <th>Average Household Size</th>\n",
       "      <th>Count</th>\n",
       "    </tr>\n",
       "  </thead>\n",
       "  <tbody>\n",
       "    <tr>\n",
       "      <th>count</th>\n",
       "      <td>2891.000000</td>\n",
       "      <td>2.888000e+03</td>\n",
       "      <td>2.888000e+03</td>\n",
       "      <td>2.891000e+03</td>\n",
       "      <td>2878.000000</td>\n",
       "      <td>2.878000e+03</td>\n",
       "      <td>2875.000000</td>\n",
       "      <td>2.891000e+03</td>\n",
       "    </tr>\n",
       "    <tr>\n",
       "      <th>mean</th>\n",
       "      <td>35.494881</td>\n",
       "      <td>9.732843e+04</td>\n",
       "      <td>1.017696e+05</td>\n",
       "      <td>1.989668e+05</td>\n",
       "      <td>9367.832523</td>\n",
       "      <td>4.065360e+04</td>\n",
       "      <td>2.742543</td>\n",
       "      <td>4.896377e+04</td>\n",
       "    </tr>\n",
       "    <tr>\n",
       "      <th>std</th>\n",
       "      <td>4.401617</td>\n",
       "      <td>2.162999e+05</td>\n",
       "      <td>2.315646e+05</td>\n",
       "      <td>4.475559e+05</td>\n",
       "      <td>13211.219924</td>\n",
       "      <td>1.557491e+05</td>\n",
       "      <td>0.433291</td>\n",
       "      <td>1.443856e+05</td>\n",
       "    </tr>\n",
       "    <tr>\n",
       "      <th>min</th>\n",
       "      <td>22.900000</td>\n",
       "      <td>2.928100e+04</td>\n",
       "      <td>2.734800e+04</td>\n",
       "      <td>6.321500e+04</td>\n",
       "      <td>416.000000</td>\n",
       "      <td>8.610000e+02</td>\n",
       "      <td>2.000000</td>\n",
       "      <td>9.800000e+01</td>\n",
       "    </tr>\n",
       "    <tr>\n",
       "      <th>25%</th>\n",
       "      <td>32.800000</td>\n",
       "      <td>3.928900e+04</td>\n",
       "      <td>4.122700e+04</td>\n",
       "      <td>8.042900e+04</td>\n",
       "      <td>3739.000000</td>\n",
       "      <td>9.224000e+03</td>\n",
       "      <td>2.430000</td>\n",
       "      <td>3.435000e+03</td>\n",
       "    </tr>\n",
       "    <tr>\n",
       "      <th>50%</th>\n",
       "      <td>35.300000</td>\n",
       "      <td>5.234100e+04</td>\n",
       "      <td>5.380900e+04</td>\n",
       "      <td>1.067820e+05</td>\n",
       "      <td>5397.000000</td>\n",
       "      <td>1.882200e+04</td>\n",
       "      <td>2.650000</td>\n",
       "      <td>1.378000e+04</td>\n",
       "    </tr>\n",
       "    <tr>\n",
       "      <th>75%</th>\n",
       "      <td>38.000000</td>\n",
       "      <td>8.664175e+04</td>\n",
       "      <td>8.960400e+04</td>\n",
       "      <td>1.752320e+05</td>\n",
       "      <td>9368.000000</td>\n",
       "      <td>3.397175e+04</td>\n",
       "      <td>2.950000</td>\n",
       "      <td>5.444700e+04</td>\n",
       "    </tr>\n",
       "    <tr>\n",
       "      <th>max</th>\n",
       "      <td>70.500000</td>\n",
       "      <td>4.081698e+06</td>\n",
       "      <td>4.468707e+06</td>\n",
       "      <td>8.550405e+06</td>\n",
       "      <td>156961.000000</td>\n",
       "      <td>3.212500e+06</td>\n",
       "      <td>4.980000</td>\n",
       "      <td>3.835726e+06</td>\n",
       "    </tr>\n",
       "  </tbody>\n",
       "</table>\n",
       "</div>"
      ],
      "text/plain": [
       "        Median Age  Male Population  Female Population  Total Population  Number of Veterans  Foreign-born  Average Household Size         Count\n",
       "count  2891.000000     2.888000e+03       2.888000e+03      2.891000e+03         2878.000000  2.878000e+03             2875.000000  2.891000e+03\n",
       "mean     35.494881     9.732843e+04       1.017696e+05      1.989668e+05         9367.832523  4.065360e+04                2.742543  4.896377e+04\n",
       "std       4.401617     2.162999e+05       2.315646e+05      4.475559e+05        13211.219924  1.557491e+05                0.433291  1.443856e+05\n",
       "min      22.900000     2.928100e+04       2.734800e+04      6.321500e+04          416.000000  8.610000e+02                2.000000  9.800000e+01\n",
       "25%      32.800000     3.928900e+04       4.122700e+04      8.042900e+04         3739.000000  9.224000e+03                2.430000  3.435000e+03\n",
       "50%      35.300000     5.234100e+04       5.380900e+04      1.067820e+05         5397.000000  1.882200e+04                2.650000  1.378000e+04\n",
       "75%      38.000000     8.664175e+04       8.960400e+04      1.752320e+05         9368.000000  3.397175e+04                2.950000  5.444700e+04\n",
       "max      70.500000     4.081698e+06       4.468707e+06      8.550405e+06       156961.000000  3.212500e+06                4.980000  3.835726e+06"
      ]
     },
     "execution_count": 19,
     "metadata": {},
     "output_type": "execute_result"
    }
   ],
   "source": [
    "c.describe()"
   ]
  },
  {
   "cell_type": "markdown",
   "metadata": {
    "editable": true
   },
   "source": [
    "#### Missing values in Cities"
   ]
  },
  {
   "cell_type": "code",
   "execution_count": 20,
   "metadata": {
    "editable": true
   },
   "outputs": [],
   "source": [
    "#Declaring a function for missing values\n",
    "\n",
    "def find_missing_data(df):\n",
    "    '''\n",
    "    INPUT:\n",
    "        df - (dataframe), dataframe to check for missing values in its columns\n",
    "    OUTPUT:\n",
    "        df_null: (dataframe), with count & percentage of missing values in input dataframe columns\n",
    "    '''\n",
    "    null_data = df.isnull().sum()[df.isnull().sum() > 0]\n",
    "    \n",
    "    data_dict = {'count': null_data.values, \n",
    "                 'pct': np.round(null_data.values *100/df.shape[0],2)}\n",
    "    \n",
    "    df_null = pd.DataFrame(data=data_dict, index=null_data.index)\n",
    "    df_null.sort_values(by='count', ascending=False, inplace=True)\n",
    "    return df_null\n",
    "\n"
   ]
  },
  {
   "cell_type": "code",
   "execution_count": 21,
   "metadata": {
    "editable": true
   },
   "outputs": [
    {
     "data": {
      "text/plain": [
       "48"
      ]
     },
     "execution_count": 21,
     "metadata": {},
     "output_type": "execute_result"
    }
   ],
   "source": [
    "c.isnull().sum().sum() #count of all missing values in Cities"
   ]
  },
  {
   "cell_type": "code",
   "execution_count": 22,
   "metadata": {
    "editable": true
   },
   "outputs": [
    {
     "data": {
      "text/html": [
       "<div>\n",
       "<style scoped>\n",
       "    .dataframe tbody tr th:only-of-type {\n",
       "        vertical-align: middle;\n",
       "    }\n",
       "\n",
       "    .dataframe tbody tr th {\n",
       "        vertical-align: top;\n",
       "    }\n",
       "\n",
       "    .dataframe thead th {\n",
       "        text-align: right;\n",
       "    }\n",
       "</style>\n",
       "<table border=\"1\" class=\"dataframe\">\n",
       "  <thead>\n",
       "    <tr style=\"text-align: right;\">\n",
       "      <th></th>\n",
       "      <th>count</th>\n",
       "      <th>pct</th>\n",
       "    </tr>\n",
       "  </thead>\n",
       "  <tbody>\n",
       "    <tr>\n",
       "      <th>Average Household Size</th>\n",
       "      <td>16</td>\n",
       "      <td>0.55</td>\n",
       "    </tr>\n",
       "    <tr>\n",
       "      <th>Number of Veterans</th>\n",
       "      <td>13</td>\n",
       "      <td>0.45</td>\n",
       "    </tr>\n",
       "    <tr>\n",
       "      <th>Foreign-born</th>\n",
       "      <td>13</td>\n",
       "      <td>0.45</td>\n",
       "    </tr>\n",
       "    <tr>\n",
       "      <th>Male Population</th>\n",
       "      <td>3</td>\n",
       "      <td>0.10</td>\n",
       "    </tr>\n",
       "    <tr>\n",
       "      <th>Female Population</th>\n",
       "      <td>3</td>\n",
       "      <td>0.10</td>\n",
       "    </tr>\n",
       "  </tbody>\n",
       "</table>\n",
       "</div>"
      ],
      "text/plain": [
       "                        count   pct\n",
       "Average Household Size     16  0.55\n",
       "Number of Veterans         13  0.45\n",
       "Foreign-born               13  0.45\n",
       "Male Population             3  0.10\n",
       "Female Population           3  0.10"
      ]
     },
     "execution_count": 22,
     "metadata": {},
     "output_type": "execute_result"
    }
   ],
   "source": [
    "find_missing_data(c) #getting missing vals by column"
   ]
  },
  {
   "cell_type": "code",
   "execution_count": 23,
   "metadata": {
    "editable": true,
    "scrolled": true
   },
   "outputs": [
    {
     "data": {
      "text/html": [
       "<div>\n",
       "<style scoped>\n",
       "    .dataframe tbody tr th:only-of-type {\n",
       "        vertical-align: middle;\n",
       "    }\n",
       "\n",
       "    .dataframe tbody tr th {\n",
       "        vertical-align: top;\n",
       "    }\n",
       "\n",
       "    .dataframe thead th {\n",
       "        text-align: right;\n",
       "    }\n",
       "</style>\n",
       "<table border=\"1\" class=\"dataframe\">\n",
       "  <thead>\n",
       "    <tr style=\"text-align: right;\">\n",
       "      <th></th>\n",
       "      <th>City</th>\n",
       "      <th>State</th>\n",
       "      <th>Median Age</th>\n",
       "      <th>Male Population</th>\n",
       "      <th>Female Population</th>\n",
       "      <th>Total Population</th>\n",
       "      <th>Number of Veterans</th>\n",
       "      <th>Foreign-born</th>\n",
       "      <th>Average Household Size</th>\n",
       "      <th>State Code</th>\n",
       "      <th>Race</th>\n",
       "      <th>Count</th>\n",
       "    </tr>\n",
       "  </thead>\n",
       "  <tbody>\n",
       "    <tr>\n",
       "      <th>5</th>\n",
       "      <td>San Juan</td>\n",
       "      <td>Puerto Rico</td>\n",
       "      <td>41.4</td>\n",
       "      <td>155408.0</td>\n",
       "      <td>186829.0</td>\n",
       "      <td>342237</td>\n",
       "      <td>NaN</td>\n",
       "      <td>NaN</td>\n",
       "      <td>NaN</td>\n",
       "      <td>PR</td>\n",
       "      <td>Hispanic or Latino</td>\n",
       "      <td>335559</td>\n",
       "    </tr>\n",
       "    <tr>\n",
       "      <th>9</th>\n",
       "      <td>Caguas</td>\n",
       "      <td>Puerto Rico</td>\n",
       "      <td>40.4</td>\n",
       "      <td>34743.0</td>\n",
       "      <td>42265.0</td>\n",
       "      <td>77008</td>\n",
       "      <td>NaN</td>\n",
       "      <td>NaN</td>\n",
       "      <td>NaN</td>\n",
       "      <td>PR</td>\n",
       "      <td>Hispanic or Latino</td>\n",
       "      <td>76349</td>\n",
       "    </tr>\n",
       "    <tr>\n",
       "      <th>280</th>\n",
       "      <td>Bayamón</td>\n",
       "      <td>Puerto Rico</td>\n",
       "      <td>39.4</td>\n",
       "      <td>80128.0</td>\n",
       "      <td>90131.0</td>\n",
       "      <td>170259</td>\n",
       "      <td>NaN</td>\n",
       "      <td>NaN</td>\n",
       "      <td>NaN</td>\n",
       "      <td>PR</td>\n",
       "      <td>Hispanic or Latino</td>\n",
       "      <td>169155</td>\n",
       "    </tr>\n",
       "    <tr>\n",
       "      <th>740</th>\n",
       "      <td>The Villages</td>\n",
       "      <td>Florida</td>\n",
       "      <td>70.5</td>\n",
       "      <td>NaN</td>\n",
       "      <td>NaN</td>\n",
       "      <td>72590</td>\n",
       "      <td>15231.0</td>\n",
       "      <td>4034.0</td>\n",
       "      <td>NaN</td>\n",
       "      <td>FL</td>\n",
       "      <td>White</td>\n",
       "      <td>72211</td>\n",
       "    </tr>\n",
       "    <tr>\n",
       "      <th>806</th>\n",
       "      <td>San Juan</td>\n",
       "      <td>Puerto Rico</td>\n",
       "      <td>41.4</td>\n",
       "      <td>155408.0</td>\n",
       "      <td>186829.0</td>\n",
       "      <td>342237</td>\n",
       "      <td>NaN</td>\n",
       "      <td>NaN</td>\n",
       "      <td>NaN</td>\n",
       "      <td>PR</td>\n",
       "      <td>American Indian and Alaska Native</td>\n",
       "      <td>4031</td>\n",
       "    </tr>\n",
       "    <tr>\n",
       "      <th>908</th>\n",
       "      <td>The Villages</td>\n",
       "      <td>Florida</td>\n",
       "      <td>70.5</td>\n",
       "      <td>NaN</td>\n",
       "      <td>NaN</td>\n",
       "      <td>72590</td>\n",
       "      <td>15231.0</td>\n",
       "      <td>4034.0</td>\n",
       "      <td>NaN</td>\n",
       "      <td>FL</td>\n",
       "      <td>Black or African-American</td>\n",
       "      <td>331</td>\n",
       "    </tr>\n",
       "    <tr>\n",
       "      <th>1121</th>\n",
       "      <td>Guaynabo</td>\n",
       "      <td>Puerto Rico</td>\n",
       "      <td>42.2</td>\n",
       "      <td>33066.0</td>\n",
       "      <td>37426.0</td>\n",
       "      <td>70492</td>\n",
       "      <td>NaN</td>\n",
       "      <td>NaN</td>\n",
       "      <td>NaN</td>\n",
       "      <td>PR</td>\n",
       "      <td>American Indian and Alaska Native</td>\n",
       "      <td>589</td>\n",
       "    </tr>\n",
       "    <tr>\n",
       "      <th>1196</th>\n",
       "      <td>Mayagüez</td>\n",
       "      <td>Puerto Rico</td>\n",
       "      <td>38.1</td>\n",
       "      <td>30799.0</td>\n",
       "      <td>35782.0</td>\n",
       "      <td>66581</td>\n",
       "      <td>NaN</td>\n",
       "      <td>NaN</td>\n",
       "      <td>NaN</td>\n",
       "      <td>PR</td>\n",
       "      <td>Asian</td>\n",
       "      <td>235</td>\n",
       "    </tr>\n",
       "    <tr>\n",
       "      <th>1443</th>\n",
       "      <td>Mayagüez</td>\n",
       "      <td>Puerto Rico</td>\n",
       "      <td>38.1</td>\n",
       "      <td>30799.0</td>\n",
       "      <td>35782.0</td>\n",
       "      <td>66581</td>\n",
       "      <td>NaN</td>\n",
       "      <td>NaN</td>\n",
       "      <td>NaN</td>\n",
       "      <td>PR</td>\n",
       "      <td>Hispanic or Latino</td>\n",
       "      <td>65521</td>\n",
       "    </tr>\n",
       "    <tr>\n",
       "      <th>1530</th>\n",
       "      <td>Caguas</td>\n",
       "      <td>Puerto Rico</td>\n",
       "      <td>40.4</td>\n",
       "      <td>34743.0</td>\n",
       "      <td>42265.0</td>\n",
       "      <td>77008</td>\n",
       "      <td>NaN</td>\n",
       "      <td>NaN</td>\n",
       "      <td>NaN</td>\n",
       "      <td>PR</td>\n",
       "      <td>American Indian and Alaska Native</td>\n",
       "      <td>624</td>\n",
       "    </tr>\n",
       "    <tr>\n",
       "      <th>1547</th>\n",
       "      <td>The Villages</td>\n",
       "      <td>Florida</td>\n",
       "      <td>70.5</td>\n",
       "      <td>NaN</td>\n",
       "      <td>NaN</td>\n",
       "      <td>72590</td>\n",
       "      <td>15231.0</td>\n",
       "      <td>4034.0</td>\n",
       "      <td>NaN</td>\n",
       "      <td>FL</td>\n",
       "      <td>Hispanic or Latino</td>\n",
       "      <td>1066</td>\n",
       "    </tr>\n",
       "    <tr>\n",
       "      <th>1826</th>\n",
       "      <td>San Juan</td>\n",
       "      <td>Puerto Rico</td>\n",
       "      <td>41.4</td>\n",
       "      <td>155408.0</td>\n",
       "      <td>186829.0</td>\n",
       "      <td>342237</td>\n",
       "      <td>NaN</td>\n",
       "      <td>NaN</td>\n",
       "      <td>NaN</td>\n",
       "      <td>PR</td>\n",
       "      <td>Asian</td>\n",
       "      <td>2452</td>\n",
       "    </tr>\n",
       "    <tr>\n",
       "      <th>2079</th>\n",
       "      <td>Carolina</td>\n",
       "      <td>Puerto Rico</td>\n",
       "      <td>42.0</td>\n",
       "      <td>64758.0</td>\n",
       "      <td>77308.0</td>\n",
       "      <td>142066</td>\n",
       "      <td>NaN</td>\n",
       "      <td>NaN</td>\n",
       "      <td>NaN</td>\n",
       "      <td>PR</td>\n",
       "      <td>Hispanic or Latino</td>\n",
       "      <td>139967</td>\n",
       "    </tr>\n",
       "    <tr>\n",
       "      <th>2284</th>\n",
       "      <td>Carolina</td>\n",
       "      <td>Puerto Rico</td>\n",
       "      <td>42.0</td>\n",
       "      <td>64758.0</td>\n",
       "      <td>77308.0</td>\n",
       "      <td>142066</td>\n",
       "      <td>NaN</td>\n",
       "      <td>NaN</td>\n",
       "      <td>NaN</td>\n",
       "      <td>PR</td>\n",
       "      <td>American Indian and Alaska Native</td>\n",
       "      <td>12143</td>\n",
       "    </tr>\n",
       "    <tr>\n",
       "      <th>2558</th>\n",
       "      <td>Guaynabo</td>\n",
       "      <td>Puerto Rico</td>\n",
       "      <td>42.2</td>\n",
       "      <td>33066.0</td>\n",
       "      <td>37426.0</td>\n",
       "      <td>70492</td>\n",
       "      <td>NaN</td>\n",
       "      <td>NaN</td>\n",
       "      <td>NaN</td>\n",
       "      <td>PR</td>\n",
       "      <td>Hispanic or Latino</td>\n",
       "      <td>69936</td>\n",
       "    </tr>\n",
       "    <tr>\n",
       "      <th>2646</th>\n",
       "      <td>Ponce</td>\n",
       "      <td>Puerto Rico</td>\n",
       "      <td>40.5</td>\n",
       "      <td>56968.0</td>\n",
       "      <td>64615.0</td>\n",
       "      <td>121583</td>\n",
       "      <td>NaN</td>\n",
       "      <td>NaN</td>\n",
       "      <td>NaN</td>\n",
       "      <td>PR</td>\n",
       "      <td>Hispanic or Latino</td>\n",
       "      <td>120705</td>\n",
       "    </tr>\n",
       "  </tbody>\n",
       "</table>\n",
       "</div>"
      ],
      "text/plain": [
       "              City        State  Median Age  Male Population  Female Population  Total Population  Number of Veterans  Foreign-born  Average Household Size State Code                               Race   Count\n",
       "5         San Juan  Puerto Rico        41.4         155408.0           186829.0            342237                 NaN           NaN                     NaN         PR                 Hispanic or Latino  335559\n",
       "9           Caguas  Puerto Rico        40.4          34743.0            42265.0             77008                 NaN           NaN                     NaN         PR                 Hispanic or Latino   76349\n",
       "280        Bayamón  Puerto Rico        39.4          80128.0            90131.0            170259                 NaN           NaN                     NaN         PR                 Hispanic or Latino  169155\n",
       "740   The Villages      Florida        70.5              NaN                NaN             72590             15231.0        4034.0                     NaN         FL                              White   72211\n",
       "806       San Juan  Puerto Rico        41.4         155408.0           186829.0            342237                 NaN           NaN                     NaN         PR  American Indian and Alaska Native    4031\n",
       "908   The Villages      Florida        70.5              NaN                NaN             72590             15231.0        4034.0                     NaN         FL          Black or African-American     331\n",
       "1121      Guaynabo  Puerto Rico        42.2          33066.0            37426.0             70492                 NaN           NaN                     NaN         PR  American Indian and Alaska Native     589\n",
       "1196      Mayagüez  Puerto Rico        38.1          30799.0            35782.0             66581                 NaN           NaN                     NaN         PR                              Asian     235\n",
       "1443      Mayagüez  Puerto Rico        38.1          30799.0            35782.0             66581                 NaN           NaN                     NaN         PR                 Hispanic or Latino   65521\n",
       "1530        Caguas  Puerto Rico        40.4          34743.0            42265.0             77008                 NaN           NaN                     NaN         PR  American Indian and Alaska Native     624\n",
       "1547  The Villages      Florida        70.5              NaN                NaN             72590             15231.0        4034.0                     NaN         FL                 Hispanic or Latino    1066\n",
       "1826      San Juan  Puerto Rico        41.4         155408.0           186829.0            342237                 NaN           NaN                     NaN         PR                              Asian    2452\n",
       "2079      Carolina  Puerto Rico        42.0          64758.0            77308.0            142066                 NaN           NaN                     NaN         PR                 Hispanic or Latino  139967\n",
       "2284      Carolina  Puerto Rico        42.0          64758.0            77308.0            142066                 NaN           NaN                     NaN         PR  American Indian and Alaska Native   12143\n",
       "2558      Guaynabo  Puerto Rico        42.2          33066.0            37426.0             70492                 NaN           NaN                     NaN         PR                 Hispanic or Latino   69936\n",
       "2646         Ponce  Puerto Rico        40.5          56968.0            64615.0            121583                 NaN           NaN                     NaN         PR                 Hispanic or Latino  120705"
      ]
     },
     "execution_count": 23,
     "metadata": {},
     "output_type": "execute_result"
    }
   ],
   "source": [
    "def nans(df): \n",
    "    return df[df.isnull().any(axis=1)]\n",
    "\n",
    "nans(c) #missing val detail"
   ]
  },
  {
   "cell_type": "code",
   "execution_count": 24,
   "metadata": {
    "editable": true
   },
   "outputs": [
    {
     "data": {
      "text/plain": [
       "0"
      ]
     },
     "execution_count": 24,
     "metadata": {},
     "output_type": "execute_result"
    }
   ],
   "source": [
    "#missing values comprise less than 1% of Cities data, so it's safe to drop them\n",
    "c2 = c.dropna(axis=0)\n",
    "c2.isnull().sum().sum() "
   ]
  },
  {
   "cell_type": "code",
   "execution_count": 25,
   "metadata": {
    "editable": true
   },
   "outputs": [
    {
     "data": {
      "text/html": [
       "<div>\n",
       "<style scoped>\n",
       "    .dataframe tbody tr th:only-of-type {\n",
       "        vertical-align: middle;\n",
       "    }\n",
       "\n",
       "    .dataframe tbody tr th {\n",
       "        vertical-align: top;\n",
       "    }\n",
       "\n",
       "    .dataframe thead th {\n",
       "        text-align: right;\n",
       "    }\n",
       "</style>\n",
       "<table border=\"1\" class=\"dataframe\">\n",
       "  <thead>\n",
       "    <tr style=\"text-align: right;\">\n",
       "      <th></th>\n",
       "      <th>City</th>\n",
       "      <th>State</th>\n",
       "      <th>Median Age</th>\n",
       "      <th>Male Population</th>\n",
       "      <th>Female Population</th>\n",
       "      <th>Total Population</th>\n",
       "      <th>Number of Veterans</th>\n",
       "      <th>Foreign-born</th>\n",
       "      <th>Average Household Size</th>\n",
       "      <th>State Code</th>\n",
       "      <th>Race</th>\n",
       "      <th>Count</th>\n",
       "    </tr>\n",
       "  </thead>\n",
       "  <tbody>\n",
       "  </tbody>\n",
       "</table>\n",
       "</div>"
      ],
      "text/plain": [
       "Empty DataFrame\n",
       "Columns: [City, State, Median Age, Male Population, Female Population, Total Population, Number of Veterans, Foreign-born, Average Household Size, State Code, Race, Count]\n",
       "Index: []"
      ]
     },
     "execution_count": 25,
     "metadata": {},
     "output_type": "execute_result"
    }
   ],
   "source": [
    "c2[c2[['City', 'State Code', 'Count']].duplicated()].sort_values(by='City') #primary key will be compository"
   ]
  },
  {
   "cell_type": "markdown",
   "metadata": {
    "editable": true
   },
   "source": [
    "#### Missing values in Airport"
   ]
  },
  {
   "cell_type": "code",
   "execution_count": 26,
   "metadata": {
    "editable": true
   },
   "outputs": [
    {
     "data": {
      "text/plain": [
       "126968"
      ]
     },
     "execution_count": 26,
     "metadata": {},
     "output_type": "execute_result"
    }
   ],
   "source": [
    "a.isnull().sum().sum() #count of all missing values in Airports"
   ]
  },
  {
   "cell_type": "code",
   "execution_count": 27,
   "metadata": {
    "editable": true,
    "scrolled": true
   },
   "outputs": [
    {
     "data": {
      "text/html": [
       "<div>\n",
       "<style scoped>\n",
       "    .dataframe tbody tr th:only-of-type {\n",
       "        vertical-align: middle;\n",
       "    }\n",
       "\n",
       "    .dataframe tbody tr th {\n",
       "        vertical-align: top;\n",
       "    }\n",
       "\n",
       "    .dataframe thead th {\n",
       "        text-align: right;\n",
       "    }\n",
       "</style>\n",
       "<table border=\"1\" class=\"dataframe\">\n",
       "  <thead>\n",
       "    <tr style=\"text-align: right;\">\n",
       "      <th></th>\n",
       "      <th>count</th>\n",
       "      <th>pct</th>\n",
       "    </tr>\n",
       "  </thead>\n",
       "  <tbody>\n",
       "    <tr>\n",
       "      <th>iata_code</th>\n",
       "      <td>45886</td>\n",
       "      <td>83.32</td>\n",
       "    </tr>\n",
       "    <tr>\n",
       "      <th>continent</th>\n",
       "      <td>27719</td>\n",
       "      <td>50.33</td>\n",
       "    </tr>\n",
       "    <tr>\n",
       "      <th>local_code</th>\n",
       "      <td>26389</td>\n",
       "      <td>47.91</td>\n",
       "    </tr>\n",
       "    <tr>\n",
       "      <th>gps_code</th>\n",
       "      <td>14045</td>\n",
       "      <td>25.50</td>\n",
       "    </tr>\n",
       "    <tr>\n",
       "      <th>elevation_ft</th>\n",
       "      <td>7006</td>\n",
       "      <td>12.72</td>\n",
       "    </tr>\n",
       "    <tr>\n",
       "      <th>municipality</th>\n",
       "      <td>5676</td>\n",
       "      <td>10.31</td>\n",
       "    </tr>\n",
       "    <tr>\n",
       "      <th>iso_country</th>\n",
       "      <td>247</td>\n",
       "      <td>0.45</td>\n",
       "    </tr>\n",
       "  </tbody>\n",
       "</table>\n",
       "</div>"
      ],
      "text/plain": [
       "              count    pct\n",
       "iata_code     45886  83.32\n",
       "continent     27719  50.33\n",
       "local_code    26389  47.91\n",
       "gps_code      14045  25.50\n",
       "elevation_ft   7006  12.72\n",
       "municipality   5676  10.31\n",
       "iso_country     247   0.45"
      ]
     },
     "execution_count": 27,
     "metadata": {},
     "output_type": "execute_result"
    }
   ],
   "source": [
    "find_missing_data(a)"
   ]
  },
  {
   "cell_type": "code",
   "execution_count": 28,
   "metadata": {
    "editable": true,
    "scrolled": true
   },
   "outputs": [
    {
     "data": {
      "text/html": [
       "<div>\n",
       "<style scoped>\n",
       "    .dataframe tbody tr th:only-of-type {\n",
       "        vertical-align: middle;\n",
       "    }\n",
       "\n",
       "    .dataframe tbody tr th {\n",
       "        vertical-align: top;\n",
       "    }\n",
       "\n",
       "    .dataframe thead th {\n",
       "        text-align: right;\n",
       "    }\n",
       "</style>\n",
       "<table border=\"1\" class=\"dataframe\">\n",
       "  <thead>\n",
       "    <tr style=\"text-align: right;\">\n",
       "      <th></th>\n",
       "      <th>ident</th>\n",
       "      <th>type</th>\n",
       "      <th>name</th>\n",
       "      <th>elevation_ft</th>\n",
       "      <th>iso_country</th>\n",
       "      <th>iso_region</th>\n",
       "      <th>municipality</th>\n",
       "      <th>gps_code</th>\n",
       "      <th>local_code</th>\n",
       "      <th>coordinates</th>\n",
       "    </tr>\n",
       "  </thead>\n",
       "  <tbody>\n",
       "    <tr>\n",
       "      <th>0</th>\n",
       "      <td>00A</td>\n",
       "      <td>heliport</td>\n",
       "      <td>Total Rf Heliport</td>\n",
       "      <td>11.0</td>\n",
       "      <td>US</td>\n",
       "      <td>US-PA</td>\n",
       "      <td>Bensalem</td>\n",
       "      <td>00A</td>\n",
       "      <td>00A</td>\n",
       "      <td>-74.93360137939453, 40.07080078125</td>\n",
       "    </tr>\n",
       "    <tr>\n",
       "      <th>1</th>\n",
       "      <td>00AA</td>\n",
       "      <td>small_airport</td>\n",
       "      <td>Aero B Ranch Airport</td>\n",
       "      <td>3435.0</td>\n",
       "      <td>US</td>\n",
       "      <td>US-KS</td>\n",
       "      <td>Leoti</td>\n",
       "      <td>00AA</td>\n",
       "      <td>00AA</td>\n",
       "      <td>-101.473911, 38.704022</td>\n",
       "    </tr>\n",
       "  </tbody>\n",
       "</table>\n",
       "</div>"
      ],
      "text/plain": [
       "  ident           type                  name  elevation_ft iso_country iso_region municipality gps_code local_code                         coordinates\n",
       "0   00A       heliport     Total Rf Heliport          11.0          US      US-PA     Bensalem      00A        00A  -74.93360137939453, 40.07080078125\n",
       "1  00AA  small_airport  Aero B Ranch Airport        3435.0          US      US-KS        Leoti     00AA       00AA              -101.473911, 38.704022"
      ]
     },
     "execution_count": 28,
     "metadata": {},
     "output_type": "execute_result"
    }
   ],
   "source": [
    "#Dropping columns that are missing over 25% of data\n",
    "cols = a.columns[a.isnull().sum()/len(a) > .50]\n",
    "a2 = a.drop(cols,axis=1)\n",
    "a2.head(2)"
   ]
  },
  {
   "cell_type": "code",
   "execution_count": 29,
   "metadata": {
    "editable": true
   },
   "outputs": [
    {
     "data": {
      "text/plain": [
       "0"
      ]
     },
     "execution_count": 29,
     "metadata": {},
     "output_type": "execute_result"
    }
   ],
   "source": [
    "#Dropping the remaining rows with null values\n",
    "a2.dropna(axis=0, inplace=True)\n",
    "a2.isnull().sum().sum() #count of all missing values in Airports after modifications"
   ]
  },
  {
   "cell_type": "markdown",
   "metadata": {
    "editable": true
   },
   "source": [
    "#### Missing values in Immigration"
   ]
  },
  {
   "cell_type": "code",
   "execution_count": 30,
   "metadata": {
    "editable": true,
    "scrolled": true
   },
   "outputs": [
    {
     "data": {
      "text/plain": [
       "pyspark.sql.dataframe.DataFrame"
      ]
     },
     "execution_count": 30,
     "metadata": {},
     "output_type": "execute_result"
    }
   ],
   "source": [
    "type(immigration)"
   ]
  },
  {
   "cell_type": "code",
   "execution_count": 31,
   "metadata": {
    "editable": true,
    "scrolled": true
   },
   "outputs": [
    {
     "data": {
      "text/plain": [
       "{'cicid': 0.0,\n",
       " 'i94yr': 0.0,\n",
       " 'i94mon': 0.0,\n",
       " 'i94cit': 0.0,\n",
       " 'i94res': 0.0,\n",
       " 'i94port': 0.0,\n",
       " 'arrdate': 0.0,\n",
       " 'i94mode': 7.729379857947582e-05,\n",
       " 'i94addr': 0.04910743449916529,\n",
       " 'depdate': 0.045907341875969,\n",
       " 'i94bir': 0.0002590474169964859,\n",
       " 'i94visa': 0.0,\n",
       " 'count': 0.0,\n",
       " 'dtadfile': 3.2340501497688625e-07,\n",
       " 'visapost': 0.6080088664718906,\n",
       " 'occup': 0.9973755683034625,\n",
       " 'entdepa': 7.697039356449892e-05,\n",
       " 'entdepd': 0.0446046664756421,\n",
       " 'entdepu': 0.999873548639144,\n",
       " 'matflag': 0.0446046664756421,\n",
       " 'biryear': 0.0002590474169964859,\n",
       " 'dtaddto': 0.00015426419214397473,\n",
       " 'gender': 0.13397279128927997,\n",
       " 'insnum': 0.9632262625570083,\n",
       " 'airline': 0.027045391187472068,\n",
       " 'admnum': 0.0,\n",
       " 'fltno': 0.0063222446377831495,\n",
       " 'visatype': 0.0}"
      ]
     },
     "execution_count": 31,
     "metadata": {},
     "output_type": "execute_result"
    }
   ],
   "source": [
    "i2 = immigration[~immigration[\"i94port\"].isin(missing_ports_list)] #filtering out missng ports derived from the SAS file\n",
    "\n",
    "{col:i2.filter(i2[col].isNull()).count() / i2.count() for col in i2.columns} #checking % of null values in each col"
   ]
  },
  {
   "cell_type": "code",
   "execution_count": 32,
   "metadata": {
    "editable": true,
    "scrolled": true
   },
   "outputs": [
    {
     "data": {
      "text/plain": [
       "{'cicid': 0.0,\n",
       " 'i94yr': 0.0,\n",
       " 'i94mon': 0.0,\n",
       " 'i94cit': 0.0,\n",
       " 'i94res': 0.0,\n",
       " 'i94port': 0.0,\n",
       " 'arrdate': 0.0,\n",
       " 'i94mode': 0.0,\n",
       " 'i94addr': 0.0,\n",
       " 'depdate': 0.0,\n",
       " 'i94bir': 0.0,\n",
       " 'i94visa': 0.0,\n",
       " 'count': 0.0,\n",
       " 'dtadfile': 0.0,\n",
       " 'entdepa': 0.0,\n",
       " 'entdepd': 0.0,\n",
       " 'matflag': 0.0,\n",
       " 'biryear': 0.0,\n",
       " 'dtaddto': 0.0,\n",
       " 'gender': 0.0,\n",
       " 'airline': 0.0,\n",
       " 'admnum': 0.0,\n",
       " 'fltno': 0.0,\n",
       " 'visatype': 0.0}"
      ]
     },
     "execution_count": 32,
     "metadata": {},
     "output_type": "execute_result"
    }
   ],
   "source": [
    "i2 = i2.drop(\"insnum\", \"entdepu\", \"occup\", \"visapost\") #dropping extra columns\n",
    "i2 = i2.dropna(how='any') #dropping null values\n",
    "{col:i2.filter(i2[col].isNull()).count() / i2.count() for col in i2.columns}"
   ]
  },
  {
   "cell_type": "markdown",
   "metadata": {
    "editable": true
   },
   "source": [
    "#### Immigration data: setting up for Staging"
   ]
  },
  {
   "cell_type": "code",
   "execution_count": 33,
   "metadata": {
    "editable": true
   },
   "outputs": [
    {
     "data": {
      "text/plain": [
       "Row(id=3493234.0, port_id='WAS', state_id='DC', age=0.0, gender='M', visa_type=2.0, count=1.0, new_arr_date=datetime.datetime(1970, 1, 1, 5, 42, 43))"
      ]
     },
     "execution_count": 33,
     "metadata": {},
     "output_type": "execute_result"
    }
   ],
   "source": [
    "def imm_staging(df):\n",
    "    '''Setting up Staging for Immigration data'''\n",
    "    df = i2.filter(i2.i94addr != 'other')\n",
    "    i3 = df.select(col(\"cicid\").alias(\"id\"), \n",
    "                                       col(\"arrdate\").alias(\"arrival_date\"),\n",
    "                                       col(\"i94port\").alias(\"port_id\"),\n",
    "                                       col(\"i94addr\").alias(\"state_id\"),\n",
    "                                       col(\"i94bir\").alias(\"age\"),\n",
    "                                       col(\"gender\").alias(\"gender\"),\n",
    "                                       col(\"i94visa\").alias(\"visa_type\"),\n",
    "                                       \"count\").drop_duplicates()\n",
    "    i3 = i3.withColumn('new_arr_date', col(\"arrival_date\").cast(\"timestamp\"))\n",
    "    i3 = i3.drop('arrival_date')\n",
    "    return i3\n",
    "\n",
    "i3 = imm_staging(i2)\n",
    "i3.head()"
   ]
  },
  {
   "cell_type": "code",
   "execution_count": 34,
   "metadata": {
    "editable": true
   },
   "outputs": [
    {
     "name": "stdout",
     "output_type": "stream",
     "text": [
      "root\n",
      " |-- id: double (nullable = true)\n",
      " |-- port_id: string (nullable = true)\n",
      " |-- state_id: string (nullable = true)\n",
      " |-- age: double (nullable = true)\n",
      " |-- gender: string (nullable = true)\n",
      " |-- visa_type: double (nullable = true)\n",
      " |-- count: double (nullable = true)\n",
      " |-- new_arr_date: timestamp (nullable = true)\n",
      "\n"
     ]
    }
   ],
   "source": [
    "#Printing Immigration schema\n",
    "i3.printSchema()"
   ]
  },
  {
   "cell_type": "markdown",
   "metadata": {
    "editable": true
   },
   "source": [
    "### Step 3: Define the Data Model <a id ='step3'></a> \n",
    "#### 3.1 Conceptual Data Model\n",
    "\n",
    "Since we're dealing with historical data, we are going to create a star schema. Primarily read optimized, star schemas are known to deliver good performance over large data sets.\n",
    "\n",
    "Two dimension tables will be connected to the fact based on its port_id and state_id foreign keys.\n",
    "You will notice a composite primary key for dim_city, and the reason for that being that no single column identifies a unique row, so it has to be a combination. As can be seen from the exploration code above, the city-state_code-count combination returned 0 duplicate rows.\n",
    "\n",
    "---\n",
    "The i94 immigration table contains a number of events / arrivals and will thus serve as **our fact table**:\n",
    "\n",
    "* id,\n",
    "* **port_id**, FK to join airport by (local_code)\n",
    "* state_id,\n",
    "* age,\n",
    "* gender,\n",
    "* visa_type,\n",
    "* count,\n",
    "* new_arr_date\n",
    "\n",
    "\n",
    "For our dimension tables, we will have the City and the Airport attributes:\n",
    "\n",
    "**dim_city**:\n",
    "                                       \n",
    "* **city**, FK\n",
    "* **state_code**, FK\n",
    "* **count**, FK\n",
    "* median_age,\n",
    "* male_population,\n",
    "* female_population,\n",
    "* total population\n",
    "* veterans_count, \n",
    "* foreign_born,\n",
    "* average_household_size,\n",
    "* state,\n",
    "* race,\n",
    "*Compository key for joining to FACT: [City, State, Count]*\n",
    "\n",
    "**dim_airport**:\n",
    "* ident,\n",
    "* **local_code** FK\n",
    "* type,\n",
    "* name,\n",
    "* elevation_ft,\n",
    "* state,\n",
    "* country,\n",
    "* municipality,\n",
    "* airports_view\n"
   ]
  },
  {
   "cell_type": "markdown",
   "metadata": {
    "editable": true
   },
   "source": [
    "#### 3.2 Mapping Out Data Pipelines\n",
    "1. Extract the data\n",
    "2. Load all the datasets from CSV and SAS data files\n",
    "3. Transform by dropping null values, coverting field format, cplitting columns etc.\n",
    "4. Set up Staging --> create fact and dimenstion tables --> insert data accordingly \n",
    "5. Write them to parquet\n"
   ]
  },
  {
   "cell_type": "markdown",
   "metadata": {
    "editable": true
   },
   "source": [
    "### Step 4: Run Pipelines to Model the Data <a id ='step4'></a> \n",
    "#### 4.1 Create the data model"
   ]
  },
  {
   "cell_type": "code",
   "execution_count": 35,
   "metadata": {
    "editable": true
   },
   "outputs": [],
   "source": [
    "def create_tables(select_statement, partition_code):\n",
    "    '''Creating a table and writing it to parquet files partitioned by a specified column'''\n",
    "    table = spark.sql(select_statement)\n",
    "    table.write.mode(\"append\").partitionBy(partition_code).parquet(\"/results/fact.parquet\")\n",
    "    return table"
   ]
  },
  {
   "cell_type": "code",
   "execution_count": 59,
   "metadata": {
    "editable": true
   },
   "outputs": [],
   "source": [
    "fact_select = ''' SELECT id\n",
    "                        ,port_id\n",
    "                        ,state_id\n",
    "                        ,age\n",
    "                        ,gender\n",
    "                        ,visa_type\n",
    "                        ,count\n",
    "                        ,new_arr_date\n",
    "                        FROM imm_view\n",
    "                        '''\n",
    "fact_partition = \"port_id\"\n",
    "i3.createOrReplaceTempView(\"imm_view\")\n",
    "fact_table = create_tables(fact_select,fact_partition)"
   ]
  },
  {
   "cell_type": "code",
   "execution_count": 62,
   "metadata": {
    "editable": true
   },
   "outputs": [
    {
     "name": "stdout",
     "output_type": "stream",
     "text": [
      "+---------+-------+--------+---+------+---------+-----+-------------------+\n",
      "|       id|port_id|state_id|age|gender|visa_type|count|       new_arr_date|\n",
      "+---------+-------+--------+---+------+---------+-----+-------------------+\n",
      "|3493234.0|    WAS|      DC|0.0|     M|      2.0|  1.0|1970-01-01 05:42:43|\n",
      "|   8756.0|    ORL|      FL|1.0|     F|      2.0|  1.0|1970-01-01 05:42:25|\n",
      "|  22716.0|    PHI|      NY|1.0|     F|      2.0|  1.0|1970-01-01 05:42:25|\n",
      "|  50276.0|    SFR|      CA|1.0|     M|      2.0|  1.0|1970-01-01 05:42:25|\n",
      "|  56256.0|    HHW|      HI|1.0|     M|      2.0|  1.0|1970-01-01 05:42:25|\n",
      "+---------+-------+--------+---+------+---------+-----+-------------------+\n",
      "\n"
     ]
    }
   ],
   "source": [
    "#creating a temporary view and checking number of rows\n",
    "fact_table.createOrReplaceTempView(\"fact_view\")\n",
    "\n",
    "spark.sql(\"\"\"\n",
    "SELECT *\n",
    "FROM fact_view\n",
    "LIMIT 5\n",
    "\"\"\").show()"
   ]
  },
  {
   "cell_type": "code",
   "execution_count": 65,
   "metadata": {
    "editable": true
   },
   "outputs": [],
   "source": [
    "#Creating a dim table for Cities\n",
    "c2_spark = spark.createDataFrame(c2)\n",
    "c2_spark.createOrReplaceTempView(\"cities_view\")\n",
    "city_partition = ['City', 'state_code', 'Count']\n",
    "city_select = ''' SELECT  City, \n",
    "                                        `State Code` AS state_code, \n",
    "                                        Count,\n",
    "                                        State, \n",
    "                                        `Median Age` AS median_age, \n",
    "                                        `Male Population` AS male_population, \n",
    "                                        `Female Population` AS female_population, \n",
    "                                        `Total Population` AS total_population, \n",
    "                                        `Number of Veterans` AS veterans_count, \n",
    "                                        `Foreign-born` AS foreign_born, \n",
    "                                        `Average Household Size` AS average_household_size, \n",
    "                                        Race\n",
    "                                FROM cities_view'''\n",
    "\n",
    "dim_city = create_tables(city_select,city_partition)"
   ]
  },
  {
   "cell_type": "code",
   "execution_count": 67,
   "metadata": {
    "editable": true
   },
   "outputs": [
    {
     "name": "stdout",
     "output_type": "stream",
     "text": [
      "+---------+----------+-----+------------+----------+---------------+-----------------+----------------+--------------+------------+----------------------+--------------------+\n",
      "|     City|state_code|Count|       State|median_age|male_population|female_population|total_population|veterans_count|foreign_born|average_household_size|                Race|\n",
      "+---------+----------+-----+------------+----------+---------------+-----------------+----------------+--------------+------------+----------------------+--------------------+\n",
      "|  Wichita|        KS| 8791|      Kansas|      34.6|       192354.0|         197601.0|          389955|       23978.0|     40270.0|                  2.56|American Indian a...|\n",
      "|    Allen|        PA|22304|Pennsylvania|      33.5|        60626.0|          59581.0|          120207|        5691.0|     19652.0|                  2.67|Black or African-...|\n",
      "|  Danbury|        CT| 8454| Connecticut|      37.3|        43435.0|          41227.0|           84662|        3752.0|     25675.0|                  2.74|Black or African-...|\n",
      "|Nashville|        TN|67526|   Tennessee|      34.1|       314231.0|         340365.0|          654596|       27942.0|     88193.0|                  2.39|  Hispanic or Latino|\n",
      "| Stamford|        CT|11013| Connecticut|      35.4|        64941.0|          63936.0|          128877|        2269.0|     44003.0|                   2.7|               Asian|\n",
      "+---------+----------+-----+------------+----------+---------------+-----------------+----------------+--------------+------------+----------------------+--------------------+\n",
      "\n"
     ]
    }
   ],
   "source": [
    "dim_city.createOrReplaceTempView(\"dim_cities_view\")\n",
    "\n",
    "spark.sql(\"\"\"\n",
    "SELECT *\n",
    "FROM dim_cities_view\n",
    "limit 5\n",
    "\"\"\").show()"
   ]
  },
  {
   "cell_type": "code",
   "execution_count": 68,
   "metadata": {
    "editable": true
   },
   "outputs": [],
   "source": [
    "a2_spark = spark.createDataFrame(a2)\n",
    "a2_spark.createOrReplaceTempView(\"air_view\")\n",
    "airport_partition = ['local_code']\n",
    "airport_select = '''\n",
    "                                SELECT local_code,\n",
    "                                ident, \n",
    "                                type, \n",
    "                                name, \n",
    "                                elevation_ft, \n",
    "                                iso_country, \n",
    "                                iso_region, \n",
    "                                municipality, \n",
    "                                gps_code,\n",
    "                                coordinates\n",
    "                                FROM air_view'''\n",
    "\n",
    "dim_airport = create_tables(airport_select,airport_partition)"
   ]
  },
  {
   "cell_type": "code",
   "execution_count": 70,
   "metadata": {
    "editable": true
   },
   "outputs": [
    {
     "name": "stdout",
     "output_type": "stream",
     "text": [
      "+----------+-----+-------------+--------------------+------------+-----------+----------+------------+--------+--------------------+\n",
      "|local_code|ident|         type|                name|elevation_ft|iso_country|iso_region|municipality|gps_code|         coordinates|\n",
      "+----------+-----+-------------+--------------------+------------+-----------+----------+------------+--------+--------------------+\n",
      "|       00A|  00A|     heliport|   Total Rf Heliport|        11.0|         US|     US-PA|    Bensalem|     00A|-74.9336013793945...|\n",
      "|      00AA| 00AA|small_airport|Aero B Ranch Airport|      3435.0|         US|     US-KS|       Leoti|    00AA|-101.473911, 38.7...|\n",
      "|      00AK| 00AK|small_airport|        Lowell Field|       450.0|         US|     US-AK|Anchor Point|    00AK|-151.695999146, 5...|\n",
      "|      00AL| 00AL|small_airport|        Epps Airpark|       820.0|         US|     US-AL|     Harvest|    00AL|-86.7703018188476...|\n",
      "|      00AS| 00AS|small_airport|      Fulton Airport|      1100.0|         US|     US-OK|        Alex|    00AS|-97.8180194, 34.9...|\n",
      "+----------+-----+-------------+--------------------+------------+-----------+----------+------------+--------+--------------------+\n",
      "\n"
     ]
    }
   ],
   "source": [
    "dim_airport.createOrReplaceTempView(\"dim_airport_view\")\n",
    "\n",
    "spark.sql(\"\"\" SELECT * FROM dim_airport_view limit 5\n",
    "\"\"\").show()"
   ]
  },
  {
   "cell_type": "markdown",
   "metadata": {
    "editable": true
   },
   "source": [
    "#### 4.2 Data Quality Checks"
   ]
  },
  {
   "cell_type": "markdown",
   "metadata": {
    "editable": true
   },
   "source": [
    "General checks"
   ]
  },
  {
   "cell_type": "code",
   "execution_count": 45,
   "metadata": {
    "editable": true
   },
   "outputs": [
    {
     "data": {
      "text/plain": [
       "24387"
      ]
     },
     "execution_count": 45,
     "metadata": {},
     "output_type": "execute_result"
    }
   ],
   "source": [
    "len(a2.index)"
   ]
  },
  {
   "cell_type": "code",
   "execution_count": 46,
   "metadata": {
    "editable": true
   },
   "outputs": [
    {
     "name": "stdout",
     "output_type": "stream",
     "text": [
      "Check passed\n",
      "Check passed\n"
     ]
    }
   ],
   "source": [
    "def data_quality_check(df): \n",
    "    '''\n",
    "    Input: dataframe\n",
    "    Output: message confirming whether the dataframe has any rows\n",
    "    '''\n",
    "    result = df.shape[0]\n",
    "    if result == 0:\n",
    "        print(\"Zero records\")\n",
    "    else:\n",
    "        print(\"Check passed\")\n",
    "\n",
    "# performing data quality checks\n",
    "data_quality_check(c2)\n",
    "data_quality_check(a2)"
   ]
  },
  {
   "cell_type": "code",
   "execution_count": 47,
   "metadata": {
    "editable": true
   },
   "outputs": [
    {
     "data": {
      "text/plain": [
       "True"
      ]
     },
     "execution_count": 47,
     "metadata": {},
     "output_type": "execute_result"
    }
   ],
   "source": [
    "len(i3.columns) >0\n",
    "i3.count()>0"
   ]
  },
  {
   "cell_type": "markdown",
   "metadata": {
    "editable": true
   },
   "source": [
    "Our views:\n",
    "* dim_airport_view\n",
    "* dim_cities_view\n",
    "* fact_view"
   ]
  },
  {
   "cell_type": "code",
   "execution_count": 72,
   "metadata": {
    "editable": true
   },
   "outputs": [
    {
     "data": {
      "text/html": [
       "<div>\n",
       "<style scoped>\n",
       "    .dataframe tbody tr th:only-of-type {\n",
       "        vertical-align: middle;\n",
       "    }\n",
       "\n",
       "    .dataframe tbody tr th {\n",
       "        vertical-align: top;\n",
       "    }\n",
       "\n",
       "    .dataframe thead th {\n",
       "        text-align: right;\n",
       "    }\n",
       "</style>\n",
       "<table border=\"1\" class=\"dataframe\">\n",
       "  <thead>\n",
       "    <tr style=\"text-align: right;\">\n",
       "      <th></th>\n",
       "      <th>ident</th>\n",
       "      <th>type</th>\n",
       "      <th>name</th>\n",
       "      <th>elevation_ft</th>\n",
       "      <th>iso_country</th>\n",
       "      <th>iso_region</th>\n",
       "      <th>municipality</th>\n",
       "      <th>gps_code</th>\n",
       "      <th>local_code</th>\n",
       "      <th>coordinates</th>\n",
       "    </tr>\n",
       "  </thead>\n",
       "  <tbody>\n",
       "    <tr>\n",
       "      <th>0</th>\n",
       "      <td>00A</td>\n",
       "      <td>heliport</td>\n",
       "      <td>Total Rf Heliport</td>\n",
       "      <td>11.0</td>\n",
       "      <td>US</td>\n",
       "      <td>US-PA</td>\n",
       "      <td>Bensalem</td>\n",
       "      <td>00A</td>\n",
       "      <td>00A</td>\n",
       "      <td>-74.93360137939453, 40.07080078125</td>\n",
       "    </tr>\n",
       "  </tbody>\n",
       "</table>\n",
       "</div>"
      ],
      "text/plain": [
       "  ident      type               name  elevation_ft iso_country iso_region municipality gps_code local_code                         coordinates\n",
       "0   00A  heliport  Total Rf Heliport          11.0          US      US-PA     Bensalem      00A        00A  -74.93360137939453, 40.07080078125"
      ]
     },
     "execution_count": 72,
     "metadata": {},
     "output_type": "execute_result"
    }
   ],
   "source": [
    "a2.head(1)"
   ]
  },
  {
   "cell_type": "code",
   "execution_count": 95,
   "metadata": {
    "editable": true
   },
   "outputs": [
    {
     "name": "stdout",
     "output_type": "stream",
     "text": [
      "+-------+--------+----+------+---------+\n",
      "|port_id|state_id| age|gender|visa_type|\n",
      "+-------+--------+----+------+---------+\n",
      "|    FMY|      FL|61.0|     F|      2.0|\n",
      "|    FMY|      FL|54.0|     F|      2.0|\n",
      "|    FMY|      FL|28.0|     F|      2.0|\n",
      "|    FMY|      NV|38.0|     F|      2.0|\n",
      "|    FMY|      FL|52.0|     F|      2.0|\n",
      "+-------+--------+----+------+---------+\n",
      "\n"
     ]
    }
   ],
   "source": [
    "#Show travel detail for the Fort Myers airport\n",
    "\n",
    "spark.sql(\"\"\"\n",
    "SELECT \n",
    "    f.port_id, \n",
    "    f.state_id, \n",
    "    f.age, \n",
    "    f.gender, \n",
    "    f.visa_type, \n",
    "FROM fact_view f\n",
    "JOIN dim_airport_view a on a.local_code = f.port_id\n",
    "WHERE a.municipality in ('Fort Myers')\n",
    "LIMIT 5\n",
    "\"\"\").show()"
   ]
  },
  {
   "cell_type": "code",
   "execution_count": 111,
   "metadata": {
    "editable": true
   },
   "outputs": [
    {
     "name": "stdout",
     "output_type": "stream",
     "text": [
      "+--------------------+-----------------+\n",
      "|                name|count_of_arrivals|\n",
      "+--------------------+-----------------+\n",
      "|Miami Internation...|           277355|\n",
      "|   Lakefront Airport|           127034|\n",
      "|Orlando Executive...|           116442|\n",
      "|Stan Stamper Muni...|           110571|\n",
      "|William P Hobby A...|            83856|\n",
      "+--------------------+-----------------+\n",
      "\n"
     ]
    }
   ],
   "source": [
    "#How many arrivals have there been per airport? What are the top 5?\n",
    "\n",
    "spark.sql(\"\"\"\n",
    "SELECT \n",
    "    a.name,\n",
    "    COUNT(f.new_arr_date) as count_of_arrivals\n",
    "FROM fact_view f\n",
    "JOIN dim_airport_view a on a.local_code = f.port_id\n",
    "GROUP BY a.name\n",
    "ORDER BY count_of_arrivals DESC\n",
    "LIMIT 5\n",
    "\"\"\").show()"
   ]
  },
  {
   "cell_type": "markdown",
   "metadata": {
    "editable": true
   },
   "source": [
    "#### 4.3 Data dictionary "
   ]
  },
  {
   "cell_type": "markdown",
   "metadata": {
    "editable": true
   },
   "source": [
    "**Immigration: fact table**:\n",
    "\n",
    "*  cicid      primary key, id from sas file\n",
    "*  i94yr      entry year, 4 digit year\n",
    "*  i94mon     entry month, numeric month\n",
    "*  i94cit     i94 citizenship country code as per SAS Labels Descriptions file\n",
    "*   i94res    i94 residence country code as per SAS Labels Descriptions file\n",
    "*  i94port     i94port code as per SAS Labels Descriptions file\n",
    "*  arrdate     date of arrival in U.S.\n",
    "*  i94mode     code for travel mode of arrival as per SAS Labels Descriptions file\n",
    "*  i94addr     address\n",
    "*  depdate     departure date from U.S.\n",
    "*  i94bir      age of the immigrant\n",
    "*  i94visa     visa category code as per SAS Labels Descriptions file\n",
    "*  dtadfile    Character Date Field - Date added to I-94 Files - CIC does not use */  \n",
    "*  visapost    visa category code as per SAS Labels Descriptions file\n",
    "*  occup       occupation of immigrant\n",
    "*  entdepa     Arrival Flag - admitted or paroled into the U.S. - CIC does not use\n",
    "*  entdepd     Departure Flag - Departed, lost I-94 or is deceased - CIC does not use\n",
    "*  entdepu     Update Flag - Either apprehended, overstayed, adjusted to perm residence - CIC does not use\n",
    "*  matflag     Match flag - Match of arrival and departure records\n",
    "*  biryear     birth year of immigrant\n",
    "* count        used for summary stats\n",
    "*  dtaddto     character Date Field - Date to which admitted to U.S. (allowed to stay until) - CIC does not use */\n",
    "*  gender      gender of immigrant\n",
    "*  insnum      INS number\n",
    "*  airline     airline code used to arrive in U.S.\n",
    "*  admnum      admission number\n",
    "*  fltno       flight number\n",
    "*  visatype  visa type\n",
    "\n",
    "**dim_city**:\n",
    "* city  U.S. city name\n",
    "* state U.S. city name\n",
    "* median_age \n",
    "* male_population \n",
    "* female_population \n",
    "* total population\n",
    "* veterans_count number of veterans\n",
    "* foreign_born number of foreign born \n",
    "* average_household_size\n",
    "* state_code\n",
    "* race\n",
    "* count\n",
    "\n",
    "**dim_airport**:\n",
    "* ident,\n",
    "* type,\n",
    "* name,\n",
    "* elevation_ft,\n",
    "* state,\n",
    "* country,\n",
    "* municipality,\n",
    "* airports_view\n",
    " "
   ]
  },
  {
   "cell_type": "markdown",
   "metadata": {
    "editable": true
   },
   "source": [
    "#### Step 5: Complete Project Write Up <a id ='step5'></a> \n",
    "* Clearly state the rationale for the choice of tools and technologies for the project.\n",
    "* Propose how often the data should be updated and why."
   ]
  },
  {
   "cell_type": "markdown",
   "metadata": {
    "editable": true
   },
   "source": [
    "As stated [at the beginning of the project](#summary), our main goal was to pull and combine disparate datasets that together would offer multifaceted responses to the business user who may be interested in learning more about the US travel and immigration/travel event correlation.\n",
    "\n",
    "Since this data provide insights only once accumulated, I would recommend against setting up a daily refresh. Since the immigration dataset is updated monthly, then monthly updates would be appropriate here.\n",
    "\n",
    "The reason I would recommend using Aiflow is for its simplicity of use, transparency that it brings to the ETL process, and free license. For data processing, I  stuck to Pandas and PySql as those are straightforward tools I'm very familiar with. They do the job, and do it well.\n",
    "\n",
    "\n",
    "\n"
   ]
  },
  {
   "cell_type": "markdown",
   "metadata": {
    "editable": true
   },
   "source": [
    "* Write a description of how you would approach the problem differently under the following scenarios:\n",
    "    \n",
    " * **The data was increased by 100x.**\n",
    "I would recommend moving to Amazon S3 for data hosting and Redshift for processing, creating maybe a 2-large node cluster. Judging from past experience, it's suited well to handle large datasets with ease.\n",
    "\n",
    " * **The data populates a dashboard that must be updated on a daily basis by 7am every day.**\n",
    " We would set our Airlfow to run daily as opposed to quarterly, with a failover message emailed to the ETL admin (me:) a few hours prior 7am.\n",
    " \n",
    " * **The database needed to be accessed by 100+ people.**\n",
    " I would warn against that as data can easily mislead if one's not careful (and you can't really trust that 100+ people would all arrive at the unbiased conclusions even if equipped with a data dictionary of sorts). It might make sense to construct a SSAS cube with predefined aggregations and publish the dataset to the cloud (that has a larger capacity to serve more users), along with some documentation explaining the backend calculations. Alternatively, we can publish our dataset to HDFS, giving read access to users that need it. [Here](https://www.atlantbh.com/multiuser-remote-hdfs-acces-using-webhdfs-and-kerberos/) is an article explaining how to set up a multi-user access along with boundaries for each user."
   ]
  },
  {
   "cell_type": "code",
   "execution_count": null,
   "metadata": {
    "editable": true
   },
   "outputs": [],
   "source": []
  }
 ],
 "metadata": {
  "kernelspec": {
   "display_name": "Python 3",
   "language": "python",
   "name": "python3"
  },
  "language_info": {
   "codemirror_mode": {
    "name": "ipython",
    "version": 3
   },
   "file_extension": ".py",
   "mimetype": "text/x-python",
   "name": "python",
   "nbconvert_exporter": "python",
   "pygments_lexer": "ipython3",
   "version": "3.6.3"
  }
 },
 "nbformat": 4,
 "nbformat_minor": 4
}
